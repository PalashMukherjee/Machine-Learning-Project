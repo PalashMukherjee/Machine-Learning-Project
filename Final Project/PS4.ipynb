{
 "cells": [
  {
   "cell_type": "code",
   "execution_count": 99,
   "metadata": {},
   "outputs": [],
   "source": [
    "# importing required \n",
    "import pandas as pd\n",
    "import numpy as np\n",
    "import matplotlib.pyplot as plt\n",
    "import seaborn as sns\n",
    "import warnings\n",
    "warnings.filterwarnings(\"ignore\")"
   ]
  },
  {
   "cell_type": "code",
   "execution_count": 2,
   "metadata": {},
   "outputs": [],
   "source": [
    "# reading csv 1\n",
    "df = pd.read_csv('Batchwise Attendance Data - Class 1.csv')"
   ]
  },
  {
   "cell_type": "code",
   "execution_count": 3,
   "metadata": {},
   "outputs": [
    {
     "data": {
      "text/html": [
       "<div>\n",
       "<style scoped>\n",
       "    .dataframe tbody tr th:only-of-type {\n",
       "        vertical-align: middle;\n",
       "    }\n",
       "\n",
       "    .dataframe tbody tr th {\n",
       "        vertical-align: top;\n",
       "    }\n",
       "\n",
       "    .dataframe thead th {\n",
       "        text-align: right;\n",
       "    }\n",
       "</style>\n",
       "<table border=\"1\" class=\"dataframe\">\n",
       "  <thead>\n",
       "    <tr style=\"text-align: right;\">\n",
       "      <th></th>\n",
       "      <th>Student Roll Num</th>\n",
       "      <th>Type</th>\n",
       "      <th>10-01-21</th>\n",
       "      <th>R-10-01-21</th>\n",
       "      <th>09-01-21</th>\n",
       "      <th>R-9-01-21</th>\n",
       "      <th>08-01-21</th>\n",
       "      <th>R-8-01-21</th>\n",
       "      <th>07-01-21</th>\n",
       "      <th>R-7-01-21</th>\n",
       "      <th>...</th>\n",
       "      <th>05-01-21</th>\n",
       "      <th>R-5-01-21</th>\n",
       "      <th>04-01-21</th>\n",
       "      <th>R-4-01-21</th>\n",
       "      <th>03-01-21</th>\n",
       "      <th>R-3-01-21</th>\n",
       "      <th>02-01-21</th>\n",
       "      <th>R-02-01-21</th>\n",
       "      <th>01-01-21</th>\n",
       "      <th>R-01-01-21</th>\n",
       "    </tr>\n",
       "  </thead>\n",
       "  <tbody>\n",
       "    <tr>\n",
       "      <th>0</th>\n",
       "      <td>1</td>\n",
       "      <td>WORKING</td>\n",
       "      <td>Missed</td>\n",
       "      <td>8</td>\n",
       "      <td>Missed</td>\n",
       "      <td>10</td>\n",
       "      <td>Missed</td>\n",
       "      <td>8</td>\n",
       "      <td>Missed</td>\n",
       "      <td>6</td>\n",
       "      <td>...</td>\n",
       "      <td>Missed</td>\n",
       "      <td>8</td>\n",
       "      <td>Missed</td>\n",
       "      <td>5</td>\n",
       "      <td>Missed</td>\n",
       "      <td>7</td>\n",
       "      <td>Missed</td>\n",
       "      <td>10</td>\n",
       "      <td>Missed</td>\n",
       "      <td>9</td>\n",
       "    </tr>\n",
       "    <tr>\n",
       "      <th>1</th>\n",
       "      <td>2</td>\n",
       "      <td>NaN</td>\n",
       "      <td>Missed</td>\n",
       "      <td>10</td>\n",
       "      <td>Missed</td>\n",
       "      <td>8</td>\n",
       "      <td>Missed</td>\n",
       "      <td>5</td>\n",
       "      <td>Attended</td>\n",
       "      <td>10</td>\n",
       "      <td>...</td>\n",
       "      <td>Attended</td>\n",
       "      <td>10</td>\n",
       "      <td>Attended</td>\n",
       "      <td>10</td>\n",
       "      <td>Missed</td>\n",
       "      <td>9</td>\n",
       "      <td>Attended</td>\n",
       "      <td>7</td>\n",
       "      <td>Missed</td>\n",
       "      <td>10</td>\n",
       "    </tr>\n",
       "    <tr>\n",
       "      <th>2</th>\n",
       "      <td>3</td>\n",
       "      <td>STUDENT</td>\n",
       "      <td>Missed</td>\n",
       "      <td>6</td>\n",
       "      <td>Missed</td>\n",
       "      <td>6</td>\n",
       "      <td>Missed</td>\n",
       "      <td>9</td>\n",
       "      <td>Missed</td>\n",
       "      <td>8</td>\n",
       "      <td>...</td>\n",
       "      <td>Attended</td>\n",
       "      <td>9</td>\n",
       "      <td>Missed</td>\n",
       "      <td>9</td>\n",
       "      <td>Missed</td>\n",
       "      <td>7</td>\n",
       "      <td>Attended</td>\n",
       "      <td>5</td>\n",
       "      <td>Attended</td>\n",
       "      <td>5</td>\n",
       "    </tr>\n",
       "    <tr>\n",
       "      <th>3</th>\n",
       "      <td>4</td>\n",
       "      <td>STUDENT</td>\n",
       "      <td>Missed</td>\n",
       "      <td>9</td>\n",
       "      <td>Missed</td>\n",
       "      <td>6</td>\n",
       "      <td>Attended</td>\n",
       "      <td>8</td>\n",
       "      <td>Missed</td>\n",
       "      <td>7</td>\n",
       "      <td>...</td>\n",
       "      <td>Missed</td>\n",
       "      <td>10</td>\n",
       "      <td>Attended</td>\n",
       "      <td>6</td>\n",
       "      <td>Attended</td>\n",
       "      <td>6</td>\n",
       "      <td>Attended</td>\n",
       "      <td>10</td>\n",
       "      <td>Attended</td>\n",
       "      <td>5</td>\n",
       "    </tr>\n",
       "    <tr>\n",
       "      <th>4</th>\n",
       "      <td>5</td>\n",
       "      <td>WORKING</td>\n",
       "      <td>Missed</td>\n",
       "      <td>5</td>\n",
       "      <td>Missed</td>\n",
       "      <td>9</td>\n",
       "      <td>Missed</td>\n",
       "      <td>9</td>\n",
       "      <td>Missed</td>\n",
       "      <td>5</td>\n",
       "      <td>...</td>\n",
       "      <td>Missed</td>\n",
       "      <td>6</td>\n",
       "      <td>Missed</td>\n",
       "      <td>10</td>\n",
       "      <td>Missed</td>\n",
       "      <td>7</td>\n",
       "      <td>Missed</td>\n",
       "      <td>6</td>\n",
       "      <td>Missed</td>\n",
       "      <td>8</td>\n",
       "    </tr>\n",
       "  </tbody>\n",
       "</table>\n",
       "<p>5 rows × 22 columns</p>\n",
       "</div>"
      ],
      "text/plain": [
       "   Student Roll Num     Type 10-01-21  R-10-01-21 09-01-21  R-9-01-21  \\\n",
       "0                 1  WORKING   Missed           8   Missed         10   \n",
       "1                 2      NaN   Missed          10   Missed          8   \n",
       "2                 3  STUDENT   Missed           6   Missed          6   \n",
       "3                 4  STUDENT   Missed           9   Missed          6   \n",
       "4                 5  WORKING   Missed           5   Missed          9   \n",
       "\n",
       "   08-01-21  R-8-01-21  07-01-21  R-7-01-21  ...  05-01-21  R-5-01-21  \\\n",
       "0    Missed          8    Missed          6  ...    Missed          8   \n",
       "1    Missed          5  Attended         10  ...  Attended         10   \n",
       "2    Missed          9    Missed          8  ...  Attended          9   \n",
       "3  Attended          8    Missed          7  ...    Missed         10   \n",
       "4    Missed          9    Missed          5  ...    Missed          6   \n",
       "\n",
       "   04-01-21  R-4-01-21  03-01-21  R-3-01-21  02-01-21  R-02-01-21  01-01-21  \\\n",
       "0    Missed          5    Missed          7    Missed          10    Missed   \n",
       "1  Attended         10    Missed          9  Attended           7    Missed   \n",
       "2    Missed          9    Missed          7  Attended           5  Attended   \n",
       "3  Attended          6  Attended          6  Attended          10  Attended   \n",
       "4    Missed         10    Missed          7    Missed           6    Missed   \n",
       "\n",
       "   R-01-01-21  \n",
       "0           9  \n",
       "1          10  \n",
       "2           5  \n",
       "3           5  \n",
       "4           8  \n",
       "\n",
       "[5 rows x 22 columns]"
      ]
     },
     "execution_count": 3,
     "metadata": {},
     "output_type": "execute_result"
    }
   ],
   "source": [
    "df.head()"
   ]
  },
  {
   "cell_type": "code",
   "execution_count": 237,
   "metadata": {},
   "outputs": [
    {
     "data": {
      "text/plain": [
       "(57, 22)"
      ]
     },
     "execution_count": 237,
     "metadata": {},
     "output_type": "execute_result"
    }
   ],
   "source": [
    "df.shape"
   ]
  },
  {
   "cell_type": "code",
   "execution_count": 5,
   "metadata": {},
   "outputs": [
    {
     "data": {
      "text/plain": [
       "Student Roll Num     0\n",
       "Type                25\n",
       "10-01-21             0\n",
       "R-10-01-21           0\n",
       "09-01-21             0\n",
       "R-9-01-21            0\n",
       "08-01-21             0\n",
       "R-8-01-21            0\n",
       "07-01-21             1\n",
       "R-7-01-21            0\n",
       "06-01-21             1\n",
       "R-6-01-21            0\n",
       "05-01-21             1\n",
       "R-5-01-21            0\n",
       "04-01-21             1\n",
       "R-4-01-21            0\n",
       "03-01-21             1\n",
       "R-3-01-21            0\n",
       "02-01-21             1\n",
       "R-02-01-21           0\n",
       "01-01-21             1\n",
       "R-01-01-21           0\n",
       "dtype: int64"
      ]
     },
     "execution_count": 5,
     "metadata": {},
     "output_type": "execute_result"
    }
   ],
   "source": [
    "# checking for null values\n",
    "df.isna().sum()"
   ]
  },
  {
   "cell_type": "code",
   "execution_count": 6,
   "metadata": {},
   "outputs": [],
   "source": [
    "# reading csv2\n",
    "df1 = pd.read_csv('Batchwise Attendance Data - Class 2.csv')"
   ]
  },
  {
   "cell_type": "code",
   "execution_count": 7,
   "metadata": {},
   "outputs": [
    {
     "data": {
      "text/html": [
       "<div>\n",
       "<style scoped>\n",
       "    .dataframe tbody tr th:only-of-type {\n",
       "        vertical-align: middle;\n",
       "    }\n",
       "\n",
       "    .dataframe tbody tr th {\n",
       "        vertical-align: top;\n",
       "    }\n",
       "\n",
       "    .dataframe thead th {\n",
       "        text-align: right;\n",
       "    }\n",
       "</style>\n",
       "<table border=\"1\" class=\"dataframe\">\n",
       "  <thead>\n",
       "    <tr style=\"text-align: right;\">\n",
       "      <th></th>\n",
       "      <th>Student Roll Num</th>\n",
       "      <th>Type</th>\n",
       "      <th>10-01-21</th>\n",
       "      <th>R-10-01-21</th>\n",
       "      <th>09-01-21</th>\n",
       "      <th>R-9-01-21</th>\n",
       "      <th>08-01-21</th>\n",
       "      <th>R-8-01-21</th>\n",
       "      <th>07-01-21</th>\n",
       "      <th>R-7-01-21</th>\n",
       "      <th>...</th>\n",
       "      <th>05-01-21</th>\n",
       "      <th>R-5-01-21</th>\n",
       "      <th>04-01-21</th>\n",
       "      <th>R-4-01-21</th>\n",
       "      <th>03-01-21</th>\n",
       "      <th>R-3-01-21</th>\n",
       "      <th>Unnamed: 18</th>\n",
       "      <th>Unnamed: 19</th>\n",
       "      <th>01-01-21</th>\n",
       "      <th>R-01-01-21</th>\n",
       "    </tr>\n",
       "  </thead>\n",
       "  <tbody>\n",
       "    <tr>\n",
       "      <th>0</th>\n",
       "      <td>1</td>\n",
       "      <td>NaN</td>\n",
       "      <td>Attended</td>\n",
       "      <td>7</td>\n",
       "      <td>Attended</td>\n",
       "      <td>9</td>\n",
       "      <td>Attended</td>\n",
       "      <td>8</td>\n",
       "      <td>Attended</td>\n",
       "      <td>6</td>\n",
       "      <td>...</td>\n",
       "      <td>Attended</td>\n",
       "      <td>7</td>\n",
       "      <td>Attended</td>\n",
       "      <td>10</td>\n",
       "      <td>Missed</td>\n",
       "      <td>6</td>\n",
       "      <td>NaN</td>\n",
       "      <td>NaN</td>\n",
       "      <td>NaN</td>\n",
       "      <td>NaN</td>\n",
       "    </tr>\n",
       "    <tr>\n",
       "      <th>1</th>\n",
       "      <td>2</td>\n",
       "      <td>NaN</td>\n",
       "      <td>Attended</td>\n",
       "      <td>9</td>\n",
       "      <td>Attended</td>\n",
       "      <td>9</td>\n",
       "      <td>Attended</td>\n",
       "      <td>5</td>\n",
       "      <td>Attended</td>\n",
       "      <td>9</td>\n",
       "      <td>...</td>\n",
       "      <td>Attended</td>\n",
       "      <td>10</td>\n",
       "      <td>Attended</td>\n",
       "      <td>9</td>\n",
       "      <td>Attended</td>\n",
       "      <td>5</td>\n",
       "      <td>NaN</td>\n",
       "      <td>NaN</td>\n",
       "      <td>NaN</td>\n",
       "      <td>NaN</td>\n",
       "    </tr>\n",
       "    <tr>\n",
       "      <th>2</th>\n",
       "      <td>3</td>\n",
       "      <td>STUDENT</td>\n",
       "      <td>Missed</td>\n",
       "      <td>6</td>\n",
       "      <td>Missed</td>\n",
       "      <td>6</td>\n",
       "      <td>Missed</td>\n",
       "      <td>8</td>\n",
       "      <td>Missed</td>\n",
       "      <td>7</td>\n",
       "      <td>...</td>\n",
       "      <td>Missed</td>\n",
       "      <td>9</td>\n",
       "      <td>Missed</td>\n",
       "      <td>6</td>\n",
       "      <td>Missed</td>\n",
       "      <td>6</td>\n",
       "      <td>NaN</td>\n",
       "      <td>NaN</td>\n",
       "      <td>NaN</td>\n",
       "      <td>NaN</td>\n",
       "    </tr>\n",
       "    <tr>\n",
       "      <th>3</th>\n",
       "      <td>4</td>\n",
       "      <td>NaN</td>\n",
       "      <td>Attended</td>\n",
       "      <td>9</td>\n",
       "      <td>Attended</td>\n",
       "      <td>9</td>\n",
       "      <td>Attended</td>\n",
       "      <td>7</td>\n",
       "      <td>Attended</td>\n",
       "      <td>9</td>\n",
       "      <td>...</td>\n",
       "      <td>Missed</td>\n",
       "      <td>5</td>\n",
       "      <td>Attended</td>\n",
       "      <td>9</td>\n",
       "      <td>Attended</td>\n",
       "      <td>7</td>\n",
       "      <td>NaN</td>\n",
       "      <td>NaN</td>\n",
       "      <td>NaN</td>\n",
       "      <td>NaN</td>\n",
       "    </tr>\n",
       "    <tr>\n",
       "      <th>4</th>\n",
       "      <td>5</td>\n",
       "      <td>WORKING</td>\n",
       "      <td>Attended</td>\n",
       "      <td>5</td>\n",
       "      <td>Attended</td>\n",
       "      <td>10</td>\n",
       "      <td>Attended</td>\n",
       "      <td>10</td>\n",
       "      <td>Missed</td>\n",
       "      <td>6</td>\n",
       "      <td>...</td>\n",
       "      <td>Missed</td>\n",
       "      <td>10</td>\n",
       "      <td>Missed</td>\n",
       "      <td>9</td>\n",
       "      <td>Missed</td>\n",
       "      <td>5</td>\n",
       "      <td>NaN</td>\n",
       "      <td>NaN</td>\n",
       "      <td>NaN</td>\n",
       "      <td>NaN</td>\n",
       "    </tr>\n",
       "  </tbody>\n",
       "</table>\n",
       "<p>5 rows × 22 columns</p>\n",
       "</div>"
      ],
      "text/plain": [
       "   Student Roll Num     Type  10-01-21  R-10-01-21  09-01-21  R-9-01-21  \\\n",
       "0                 1      NaN  Attended           7  Attended          9   \n",
       "1                 2      NaN  Attended           9  Attended          9   \n",
       "2                 3  STUDENT    Missed           6    Missed          6   \n",
       "3                 4      NaN  Attended           9  Attended          9   \n",
       "4                 5  WORKING  Attended           5  Attended         10   \n",
       "\n",
       "   08-01-21  R-8-01-21  07-01-21  R-7-01-21  ...  05-01-21  R-5-01-21  \\\n",
       "0  Attended          8  Attended          6  ...  Attended          7   \n",
       "1  Attended          5  Attended          9  ...  Attended         10   \n",
       "2    Missed          8    Missed          7  ...    Missed          9   \n",
       "3  Attended          7  Attended          9  ...    Missed          5   \n",
       "4  Attended         10    Missed          6  ...    Missed         10   \n",
       "\n",
       "   04-01-21  R-4-01-21  03-01-21  R-3-01-21 Unnamed: 18  Unnamed: 19  \\\n",
       "0  Attended         10    Missed          6         NaN          NaN   \n",
       "1  Attended          9  Attended          5         NaN          NaN   \n",
       "2    Missed          6    Missed          6         NaN          NaN   \n",
       "3  Attended          9  Attended          7         NaN          NaN   \n",
       "4    Missed          9    Missed          5         NaN          NaN   \n",
       "\n",
       "   01-01-21  R-01-01-21  \n",
       "0       NaN         NaN  \n",
       "1       NaN         NaN  \n",
       "2       NaN         NaN  \n",
       "3       NaN         NaN  \n",
       "4       NaN         NaN  \n",
       "\n",
       "[5 rows x 22 columns]"
      ]
     },
     "execution_count": 7,
     "metadata": {},
     "output_type": "execute_result"
    }
   ],
   "source": [
    "df1.head()"
   ]
  },
  {
   "cell_type": "code",
   "execution_count": 8,
   "metadata": {},
   "outputs": [
    {
     "data": {
      "text/plain": [
       "(70, 22)"
      ]
     },
     "execution_count": 8,
     "metadata": {},
     "output_type": "execute_result"
    }
   ],
   "source": [
    "df1.shape"
   ]
  },
  {
   "cell_type": "code",
   "execution_count": 9,
   "metadata": {},
   "outputs": [
    {
     "data": {
      "text/plain": [
       "Student Roll Num     0\n",
       "Type                40\n",
       "10-01-21             0\n",
       "R-10-01-21           0\n",
       "09-01-21             0\n",
       "R-9-01-21            0\n",
       "08-01-21             0\n",
       "R-8-01-21            0\n",
       "07-01-21             1\n",
       "R-7-01-21            0\n",
       "06-01-21             1\n",
       "R-6-01-21            0\n",
       "05-01-21             1\n",
       "R-5-01-21            0\n",
       "04-01-21             1\n",
       "R-4-01-21            0\n",
       "03-01-21             3\n",
       "R-3-01-21            0\n",
       "Unnamed: 18         70\n",
       "Unnamed: 19         70\n",
       "01-01-21            70\n",
       "R-01-01-21          70\n",
       "dtype: int64"
      ]
     },
     "execution_count": 9,
     "metadata": {},
     "output_type": "execute_result"
    }
   ],
   "source": [
    "# checking for null values\n",
    "df1.isna().sum()"
   ]
  },
  {
   "cell_type": "code",
   "execution_count": 10,
   "metadata": {},
   "outputs": [
    {
     "data": {
      "text/plain": [
       "0         NaN\n",
       "1         NaN\n",
       "2     STUDENT\n",
       "3         NaN\n",
       "4     WORKING\n",
       "       ...   \n",
       "65     IGNORE\n",
       "66    STUDENT\n",
       "67        NaN\n",
       "68        NaN\n",
       "69        NaN\n",
       "Name: Type, Length: 70, dtype: object"
      ]
     },
     "execution_count": 10,
     "metadata": {},
     "output_type": "execute_result"
    }
   ],
   "source": [
    "# replacing all the null values of Type column with STUDENT\n",
    "df1['Type'].replace(['NaN'],'student')"
   ]
  },
  {
   "cell_type": "code",
   "execution_count": 11,
   "metadata": {},
   "outputs": [],
   "source": [
    "df1['Type'] = df1['Type'].fillna('STUDENT')"
   ]
  },
  {
   "cell_type": "code",
   "execution_count": 12,
   "metadata": {},
   "outputs": [],
   "source": [
    "df['Type'] = df['Type'].fillna('STUDENT')"
   ]
  },
  {
   "cell_type": "code",
   "execution_count": 13,
   "metadata": {},
   "outputs": [
    {
     "data": {
      "text/plain": [
       "Student Roll Num    0\n",
       "Type                0\n",
       "10-01-21            0\n",
       "R-10-01-21          0\n",
       "09-01-21            0\n",
       "R-9-01-21           0\n",
       "08-01-21            0\n",
       "R-8-01-21           0\n",
       "07-01-21            1\n",
       "R-7-01-21           0\n",
       "06-01-21            1\n",
       "R-6-01-21           0\n",
       "05-01-21            1\n",
       "R-5-01-21           0\n",
       "04-01-21            1\n",
       "R-4-01-21           0\n",
       "03-01-21            1\n",
       "R-3-01-21           0\n",
       "02-01-21            1\n",
       "R-02-01-21          0\n",
       "01-01-21            1\n",
       "R-01-01-21          0\n",
       "dtype: int64"
      ]
     },
     "execution_count": 13,
     "metadata": {},
     "output_type": "execute_result"
    }
   ],
   "source": [
    "df.isna().sum()"
   ]
  },
  {
   "cell_type": "code",
   "execution_count": 14,
   "metadata": {},
   "outputs": [
    {
     "data": {
      "text/plain": [
       "Student Roll Num     0\n",
       "Type                 0\n",
       "10-01-21             0\n",
       "R-10-01-21           0\n",
       "09-01-21             0\n",
       "R-9-01-21            0\n",
       "08-01-21             0\n",
       "R-8-01-21            0\n",
       "07-01-21             1\n",
       "R-7-01-21            0\n",
       "06-01-21             1\n",
       "R-6-01-21            0\n",
       "05-01-21             1\n",
       "R-5-01-21            0\n",
       "04-01-21             1\n",
       "R-4-01-21            0\n",
       "03-01-21             3\n",
       "R-3-01-21            0\n",
       "Unnamed: 18         70\n",
       "Unnamed: 19         70\n",
       "01-01-21            70\n",
       "R-01-01-21          70\n",
       "dtype: int64"
      ]
     },
     "execution_count": 14,
     "metadata": {},
     "output_type": "execute_result"
    }
   ],
   "source": [
    "df1.isna().sum()"
   ]
  },
  {
   "cell_type": "code",
   "execution_count": 15,
   "metadata": {},
   "outputs": [],
   "source": [
    "# since last four columns are totally empty lets remove them\n",
    "df1.drop(['Unnamed: 18','Unnamed: 19','01-01-21','R-01-01-21'],axis=1,inplace=True)"
   ]
  },
  {
   "cell_type": "code",
   "execution_count": 16,
   "metadata": {},
   "outputs": [
    {
     "data": {
      "text/plain": [
       "Student Roll Num    0\n",
       "Type                0\n",
       "10-01-21            0\n",
       "R-10-01-21          0\n",
       "09-01-21            0\n",
       "R-9-01-21           0\n",
       "08-01-21            0\n",
       "R-8-01-21           0\n",
       "07-01-21            1\n",
       "R-7-01-21           0\n",
       "06-01-21            1\n",
       "R-6-01-21           0\n",
       "05-01-21            1\n",
       "R-5-01-21           0\n",
       "04-01-21            1\n",
       "R-4-01-21           0\n",
       "03-01-21            3\n",
       "R-3-01-21           0\n",
       "dtype: int64"
      ]
     },
     "execution_count": 16,
     "metadata": {},
     "output_type": "execute_result"
    }
   ],
   "source": [
    "df1.isna().sum()"
   ]
  },
  {
   "cell_type": "code",
   "execution_count": 17,
   "metadata": {},
   "outputs": [
    {
     "data": {
      "text/html": [
       "<div>\n",
       "<style scoped>\n",
       "    .dataframe tbody tr th:only-of-type {\n",
       "        vertical-align: middle;\n",
       "    }\n",
       "\n",
       "    .dataframe tbody tr th {\n",
       "        vertical-align: top;\n",
       "    }\n",
       "\n",
       "    .dataframe thead th {\n",
       "        text-align: right;\n",
       "    }\n",
       "</style>\n",
       "<table border=\"1\" class=\"dataframe\">\n",
       "  <thead>\n",
       "    <tr style=\"text-align: right;\">\n",
       "      <th></th>\n",
       "      <th>Student Roll Num</th>\n",
       "      <th>Type</th>\n",
       "      <th>10-01-21</th>\n",
       "      <th>R-10-01-21</th>\n",
       "      <th>09-01-21</th>\n",
       "      <th>R-9-01-21</th>\n",
       "      <th>08-01-21</th>\n",
       "      <th>R-8-01-21</th>\n",
       "      <th>07-01-21</th>\n",
       "      <th>R-7-01-21</th>\n",
       "      <th>06-01-21</th>\n",
       "      <th>R-6-01-21</th>\n",
       "      <th>05-01-21</th>\n",
       "      <th>R-5-01-21</th>\n",
       "      <th>04-01-21</th>\n",
       "      <th>R-4-01-21</th>\n",
       "      <th>03-01-21</th>\n",
       "      <th>R-3-01-21</th>\n",
       "    </tr>\n",
       "  </thead>\n",
       "  <tbody>\n",
       "    <tr>\n",
       "      <th>0</th>\n",
       "      <td>1</td>\n",
       "      <td>STUDENT</td>\n",
       "      <td>Attended</td>\n",
       "      <td>7</td>\n",
       "      <td>Attended</td>\n",
       "      <td>9</td>\n",
       "      <td>Attended</td>\n",
       "      <td>8</td>\n",
       "      <td>Attended</td>\n",
       "      <td>6</td>\n",
       "      <td>Attended</td>\n",
       "      <td>10</td>\n",
       "      <td>Attended</td>\n",
       "      <td>7</td>\n",
       "      <td>Attended</td>\n",
       "      <td>10</td>\n",
       "      <td>Missed</td>\n",
       "      <td>6</td>\n",
       "    </tr>\n",
       "    <tr>\n",
       "      <th>1</th>\n",
       "      <td>2</td>\n",
       "      <td>STUDENT</td>\n",
       "      <td>Attended</td>\n",
       "      <td>9</td>\n",
       "      <td>Attended</td>\n",
       "      <td>9</td>\n",
       "      <td>Attended</td>\n",
       "      <td>5</td>\n",
       "      <td>Attended</td>\n",
       "      <td>9</td>\n",
       "      <td>Attended</td>\n",
       "      <td>9</td>\n",
       "      <td>Attended</td>\n",
       "      <td>10</td>\n",
       "      <td>Attended</td>\n",
       "      <td>9</td>\n",
       "      <td>Attended</td>\n",
       "      <td>5</td>\n",
       "    </tr>\n",
       "    <tr>\n",
       "      <th>2</th>\n",
       "      <td>3</td>\n",
       "      <td>STUDENT</td>\n",
       "      <td>Missed</td>\n",
       "      <td>6</td>\n",
       "      <td>Missed</td>\n",
       "      <td>6</td>\n",
       "      <td>Missed</td>\n",
       "      <td>8</td>\n",
       "      <td>Missed</td>\n",
       "      <td>7</td>\n",
       "      <td>Missed</td>\n",
       "      <td>6</td>\n",
       "      <td>Missed</td>\n",
       "      <td>9</td>\n",
       "      <td>Missed</td>\n",
       "      <td>6</td>\n",
       "      <td>Missed</td>\n",
       "      <td>6</td>\n",
       "    </tr>\n",
       "    <tr>\n",
       "      <th>3</th>\n",
       "      <td>4</td>\n",
       "      <td>STUDENT</td>\n",
       "      <td>Attended</td>\n",
       "      <td>9</td>\n",
       "      <td>Attended</td>\n",
       "      <td>9</td>\n",
       "      <td>Attended</td>\n",
       "      <td>7</td>\n",
       "      <td>Attended</td>\n",
       "      <td>9</td>\n",
       "      <td>Missed</td>\n",
       "      <td>7</td>\n",
       "      <td>Missed</td>\n",
       "      <td>5</td>\n",
       "      <td>Attended</td>\n",
       "      <td>9</td>\n",
       "      <td>Attended</td>\n",
       "      <td>7</td>\n",
       "    </tr>\n",
       "    <tr>\n",
       "      <th>4</th>\n",
       "      <td>5</td>\n",
       "      <td>WORKING</td>\n",
       "      <td>Attended</td>\n",
       "      <td>5</td>\n",
       "      <td>Attended</td>\n",
       "      <td>10</td>\n",
       "      <td>Attended</td>\n",
       "      <td>10</td>\n",
       "      <td>Missed</td>\n",
       "      <td>6</td>\n",
       "      <td>Missed</td>\n",
       "      <td>9</td>\n",
       "      <td>Missed</td>\n",
       "      <td>10</td>\n",
       "      <td>Missed</td>\n",
       "      <td>9</td>\n",
       "      <td>Missed</td>\n",
       "      <td>5</td>\n",
       "    </tr>\n",
       "  </tbody>\n",
       "</table>\n",
       "</div>"
      ],
      "text/plain": [
       "   Student Roll Num     Type  10-01-21  R-10-01-21  09-01-21  R-9-01-21  \\\n",
       "0                 1  STUDENT  Attended           7  Attended          9   \n",
       "1                 2  STUDENT  Attended           9  Attended          9   \n",
       "2                 3  STUDENT    Missed           6    Missed          6   \n",
       "3                 4  STUDENT  Attended           9  Attended          9   \n",
       "4                 5  WORKING  Attended           5  Attended         10   \n",
       "\n",
       "   08-01-21  R-8-01-21  07-01-21  R-7-01-21  06-01-21  R-6-01-21  05-01-21  \\\n",
       "0  Attended          8  Attended          6  Attended         10  Attended   \n",
       "1  Attended          5  Attended          9  Attended          9  Attended   \n",
       "2    Missed          8    Missed          7    Missed          6    Missed   \n",
       "3  Attended          7  Attended          9    Missed          7    Missed   \n",
       "4  Attended         10    Missed          6    Missed          9    Missed   \n",
       "\n",
       "   R-5-01-21  04-01-21  R-4-01-21  03-01-21  R-3-01-21  \n",
       "0          7  Attended         10    Missed          6  \n",
       "1         10  Attended          9  Attended          5  \n",
       "2          9    Missed          6    Missed          6  \n",
       "3          5  Attended          9  Attended          7  \n",
       "4         10    Missed          9    Missed          5  "
      ]
     },
     "execution_count": 17,
     "metadata": {},
     "output_type": "execute_result"
    }
   ],
   "source": [
    "df1.head()"
   ]
  },
  {
   "cell_type": "code",
   "execution_count": 18,
   "metadata": {},
   "outputs": [],
   "source": [
    "from sklearn.impute import SimpleImputer"
   ]
  },
  {
   "cell_type": "code",
   "execution_count": 19,
   "metadata": {},
   "outputs": [],
   "source": [
    "# imputing missing data from df\n",
    "# SINCE THERE ARE VERY LESS NUMBER OF MISSING DATA WE CAN REPLACE THEM WITH MODEL OF THE ENTIRE COLUMN\n",
    "imputer = SimpleImputer(strategy='most_frequent')\n",
    "new_df = imputer.fit_transform(df)"
   ]
  },
  {
   "cell_type": "code",
   "execution_count": 20,
   "metadata": {},
   "outputs": [
    {
     "data": {
      "text/plain": [
       "array([[1, 'WORKING', 'Missed', ..., 10, 'Missed', 9],\n",
       "       [2, 'STUDENT', 'Missed', ..., 7, 'Missed', 10],\n",
       "       [3, 'STUDENT', 'Missed', ..., 5, 'Attended', 5],\n",
       "       ...,\n",
       "       [55, 'WORKING', 'Missed', ..., 10, 'Missed', 9],\n",
       "       [56, 'STUDENT', 'Attended', ..., 5, 'Attended', 6],\n",
       "       [57, 'STUDENT', 'Attended', ..., 6, 'Attended', 7]], dtype=object)"
      ]
     },
     "execution_count": 20,
     "metadata": {},
     "output_type": "execute_result"
    }
   ],
   "source": [
    "new_df"
   ]
  },
  {
   "cell_type": "code",
   "execution_count": 21,
   "metadata": {},
   "outputs": [],
   "source": [
    "df = pd.DataFrame(new_df,columns = df.columns)"
   ]
  },
  {
   "cell_type": "code",
   "execution_count": 22,
   "metadata": {},
   "outputs": [
    {
     "data": {
      "text/html": [
       "<div>\n",
       "<style scoped>\n",
       "    .dataframe tbody tr th:only-of-type {\n",
       "        vertical-align: middle;\n",
       "    }\n",
       "\n",
       "    .dataframe tbody tr th {\n",
       "        vertical-align: top;\n",
       "    }\n",
       "\n",
       "    .dataframe thead th {\n",
       "        text-align: right;\n",
       "    }\n",
       "</style>\n",
       "<table border=\"1\" class=\"dataframe\">\n",
       "  <thead>\n",
       "    <tr style=\"text-align: right;\">\n",
       "      <th></th>\n",
       "      <th>Student Roll Num</th>\n",
       "      <th>Type</th>\n",
       "      <th>10-01-21</th>\n",
       "      <th>R-10-01-21</th>\n",
       "      <th>09-01-21</th>\n",
       "      <th>R-9-01-21</th>\n",
       "      <th>08-01-21</th>\n",
       "      <th>R-8-01-21</th>\n",
       "      <th>07-01-21</th>\n",
       "      <th>R-7-01-21</th>\n",
       "      <th>...</th>\n",
       "      <th>05-01-21</th>\n",
       "      <th>R-5-01-21</th>\n",
       "      <th>04-01-21</th>\n",
       "      <th>R-4-01-21</th>\n",
       "      <th>03-01-21</th>\n",
       "      <th>R-3-01-21</th>\n",
       "      <th>02-01-21</th>\n",
       "      <th>R-02-01-21</th>\n",
       "      <th>01-01-21</th>\n",
       "      <th>R-01-01-21</th>\n",
       "    </tr>\n",
       "  </thead>\n",
       "  <tbody>\n",
       "    <tr>\n",
       "      <th>0</th>\n",
       "      <td>1</td>\n",
       "      <td>WORKING</td>\n",
       "      <td>Missed</td>\n",
       "      <td>8</td>\n",
       "      <td>Missed</td>\n",
       "      <td>10</td>\n",
       "      <td>Missed</td>\n",
       "      <td>8</td>\n",
       "      <td>Missed</td>\n",
       "      <td>6</td>\n",
       "      <td>...</td>\n",
       "      <td>Missed</td>\n",
       "      <td>8</td>\n",
       "      <td>Missed</td>\n",
       "      <td>5</td>\n",
       "      <td>Missed</td>\n",
       "      <td>7</td>\n",
       "      <td>Missed</td>\n",
       "      <td>10</td>\n",
       "      <td>Missed</td>\n",
       "      <td>9</td>\n",
       "    </tr>\n",
       "    <tr>\n",
       "      <th>1</th>\n",
       "      <td>2</td>\n",
       "      <td>STUDENT</td>\n",
       "      <td>Missed</td>\n",
       "      <td>10</td>\n",
       "      <td>Missed</td>\n",
       "      <td>8</td>\n",
       "      <td>Missed</td>\n",
       "      <td>5</td>\n",
       "      <td>Attended</td>\n",
       "      <td>10</td>\n",
       "      <td>...</td>\n",
       "      <td>Attended</td>\n",
       "      <td>10</td>\n",
       "      <td>Attended</td>\n",
       "      <td>10</td>\n",
       "      <td>Missed</td>\n",
       "      <td>9</td>\n",
       "      <td>Attended</td>\n",
       "      <td>7</td>\n",
       "      <td>Missed</td>\n",
       "      <td>10</td>\n",
       "    </tr>\n",
       "    <tr>\n",
       "      <th>2</th>\n",
       "      <td>3</td>\n",
       "      <td>STUDENT</td>\n",
       "      <td>Missed</td>\n",
       "      <td>6</td>\n",
       "      <td>Missed</td>\n",
       "      <td>6</td>\n",
       "      <td>Missed</td>\n",
       "      <td>9</td>\n",
       "      <td>Missed</td>\n",
       "      <td>8</td>\n",
       "      <td>...</td>\n",
       "      <td>Attended</td>\n",
       "      <td>9</td>\n",
       "      <td>Missed</td>\n",
       "      <td>9</td>\n",
       "      <td>Missed</td>\n",
       "      <td>7</td>\n",
       "      <td>Attended</td>\n",
       "      <td>5</td>\n",
       "      <td>Attended</td>\n",
       "      <td>5</td>\n",
       "    </tr>\n",
       "    <tr>\n",
       "      <th>3</th>\n",
       "      <td>4</td>\n",
       "      <td>STUDENT</td>\n",
       "      <td>Missed</td>\n",
       "      <td>9</td>\n",
       "      <td>Missed</td>\n",
       "      <td>6</td>\n",
       "      <td>Attended</td>\n",
       "      <td>8</td>\n",
       "      <td>Missed</td>\n",
       "      <td>7</td>\n",
       "      <td>...</td>\n",
       "      <td>Missed</td>\n",
       "      <td>10</td>\n",
       "      <td>Attended</td>\n",
       "      <td>6</td>\n",
       "      <td>Attended</td>\n",
       "      <td>6</td>\n",
       "      <td>Attended</td>\n",
       "      <td>10</td>\n",
       "      <td>Attended</td>\n",
       "      <td>5</td>\n",
       "    </tr>\n",
       "    <tr>\n",
       "      <th>4</th>\n",
       "      <td>5</td>\n",
       "      <td>WORKING</td>\n",
       "      <td>Missed</td>\n",
       "      <td>5</td>\n",
       "      <td>Missed</td>\n",
       "      <td>9</td>\n",
       "      <td>Missed</td>\n",
       "      <td>9</td>\n",
       "      <td>Missed</td>\n",
       "      <td>5</td>\n",
       "      <td>...</td>\n",
       "      <td>Missed</td>\n",
       "      <td>6</td>\n",
       "      <td>Missed</td>\n",
       "      <td>10</td>\n",
       "      <td>Missed</td>\n",
       "      <td>7</td>\n",
       "      <td>Missed</td>\n",
       "      <td>6</td>\n",
       "      <td>Missed</td>\n",
       "      <td>8</td>\n",
       "    </tr>\n",
       "  </tbody>\n",
       "</table>\n",
       "<p>5 rows × 22 columns</p>\n",
       "</div>"
      ],
      "text/plain": [
       "  Student Roll Num     Type 10-01-21 R-10-01-21 09-01-21 R-9-01-21  08-01-21  \\\n",
       "0                1  WORKING   Missed          8   Missed        10    Missed   \n",
       "1                2  STUDENT   Missed         10   Missed         8    Missed   \n",
       "2                3  STUDENT   Missed          6   Missed         6    Missed   \n",
       "3                4  STUDENT   Missed          9   Missed         6  Attended   \n",
       "4                5  WORKING   Missed          5   Missed         9    Missed   \n",
       "\n",
       "  R-8-01-21  07-01-21 R-7-01-21  ...  05-01-21 R-5-01-21  04-01-21 R-4-01-21  \\\n",
       "0         8    Missed         6  ...    Missed         8    Missed         5   \n",
       "1         5  Attended        10  ...  Attended        10  Attended        10   \n",
       "2         9    Missed         8  ...  Attended         9    Missed         9   \n",
       "3         8    Missed         7  ...    Missed        10  Attended         6   \n",
       "4         9    Missed         5  ...    Missed         6    Missed        10   \n",
       "\n",
       "   03-01-21 R-3-01-21  02-01-21 R-02-01-21  01-01-21 R-01-01-21  \n",
       "0    Missed         7    Missed         10    Missed          9  \n",
       "1    Missed         9  Attended          7    Missed         10  \n",
       "2    Missed         7  Attended          5  Attended          5  \n",
       "3  Attended         6  Attended         10  Attended          5  \n",
       "4    Missed         7    Missed          6    Missed          8  \n",
       "\n",
       "[5 rows x 22 columns]"
      ]
     },
     "execution_count": 22,
     "metadata": {},
     "output_type": "execute_result"
    }
   ],
   "source": [
    "df.head()"
   ]
  },
  {
   "cell_type": "code",
   "execution_count": 23,
   "metadata": {},
   "outputs": [],
   "source": [
    "# imputing missing data from df1\n",
    "imputer = SimpleImputer(strategy='most_frequent')\n",
    "new_df1 = imputer.fit_transform(df1)"
   ]
  },
  {
   "cell_type": "code",
   "execution_count": 24,
   "metadata": {},
   "outputs": [],
   "source": [
    "df1 = pd.DataFrame(new_df1,columns=df1.columns)"
   ]
  },
  {
   "cell_type": "code",
   "execution_count": 25,
   "metadata": {},
   "outputs": [
    {
     "data": {
      "text/html": [
       "<div>\n",
       "<style scoped>\n",
       "    .dataframe tbody tr th:only-of-type {\n",
       "        vertical-align: middle;\n",
       "    }\n",
       "\n",
       "    .dataframe tbody tr th {\n",
       "        vertical-align: top;\n",
       "    }\n",
       "\n",
       "    .dataframe thead th {\n",
       "        text-align: right;\n",
       "    }\n",
       "</style>\n",
       "<table border=\"1\" class=\"dataframe\">\n",
       "  <thead>\n",
       "    <tr style=\"text-align: right;\">\n",
       "      <th></th>\n",
       "      <th>Student Roll Num</th>\n",
       "      <th>Type</th>\n",
       "      <th>10-01-21</th>\n",
       "      <th>R-10-01-21</th>\n",
       "      <th>09-01-21</th>\n",
       "      <th>R-9-01-21</th>\n",
       "      <th>08-01-21</th>\n",
       "      <th>R-8-01-21</th>\n",
       "      <th>07-01-21</th>\n",
       "      <th>R-7-01-21</th>\n",
       "      <th>06-01-21</th>\n",
       "      <th>R-6-01-21</th>\n",
       "      <th>05-01-21</th>\n",
       "      <th>R-5-01-21</th>\n",
       "      <th>04-01-21</th>\n",
       "      <th>R-4-01-21</th>\n",
       "      <th>03-01-21</th>\n",
       "      <th>R-3-01-21</th>\n",
       "    </tr>\n",
       "  </thead>\n",
       "  <tbody>\n",
       "    <tr>\n",
       "      <th>0</th>\n",
       "      <td>1</td>\n",
       "      <td>STUDENT</td>\n",
       "      <td>Attended</td>\n",
       "      <td>7</td>\n",
       "      <td>Attended</td>\n",
       "      <td>9</td>\n",
       "      <td>Attended</td>\n",
       "      <td>8</td>\n",
       "      <td>Attended</td>\n",
       "      <td>6</td>\n",
       "      <td>Attended</td>\n",
       "      <td>10</td>\n",
       "      <td>Attended</td>\n",
       "      <td>7</td>\n",
       "      <td>Attended</td>\n",
       "      <td>10</td>\n",
       "      <td>Missed</td>\n",
       "      <td>6</td>\n",
       "    </tr>\n",
       "    <tr>\n",
       "      <th>1</th>\n",
       "      <td>2</td>\n",
       "      <td>STUDENT</td>\n",
       "      <td>Attended</td>\n",
       "      <td>9</td>\n",
       "      <td>Attended</td>\n",
       "      <td>9</td>\n",
       "      <td>Attended</td>\n",
       "      <td>5</td>\n",
       "      <td>Attended</td>\n",
       "      <td>9</td>\n",
       "      <td>Attended</td>\n",
       "      <td>9</td>\n",
       "      <td>Attended</td>\n",
       "      <td>10</td>\n",
       "      <td>Attended</td>\n",
       "      <td>9</td>\n",
       "      <td>Attended</td>\n",
       "      <td>5</td>\n",
       "    </tr>\n",
       "    <tr>\n",
       "      <th>2</th>\n",
       "      <td>3</td>\n",
       "      <td>STUDENT</td>\n",
       "      <td>Missed</td>\n",
       "      <td>6</td>\n",
       "      <td>Missed</td>\n",
       "      <td>6</td>\n",
       "      <td>Missed</td>\n",
       "      <td>8</td>\n",
       "      <td>Missed</td>\n",
       "      <td>7</td>\n",
       "      <td>Missed</td>\n",
       "      <td>6</td>\n",
       "      <td>Missed</td>\n",
       "      <td>9</td>\n",
       "      <td>Missed</td>\n",
       "      <td>6</td>\n",
       "      <td>Missed</td>\n",
       "      <td>6</td>\n",
       "    </tr>\n",
       "    <tr>\n",
       "      <th>3</th>\n",
       "      <td>4</td>\n",
       "      <td>STUDENT</td>\n",
       "      <td>Attended</td>\n",
       "      <td>9</td>\n",
       "      <td>Attended</td>\n",
       "      <td>9</td>\n",
       "      <td>Attended</td>\n",
       "      <td>7</td>\n",
       "      <td>Attended</td>\n",
       "      <td>9</td>\n",
       "      <td>Missed</td>\n",
       "      <td>7</td>\n",
       "      <td>Missed</td>\n",
       "      <td>5</td>\n",
       "      <td>Attended</td>\n",
       "      <td>9</td>\n",
       "      <td>Attended</td>\n",
       "      <td>7</td>\n",
       "    </tr>\n",
       "    <tr>\n",
       "      <th>4</th>\n",
       "      <td>5</td>\n",
       "      <td>WORKING</td>\n",
       "      <td>Attended</td>\n",
       "      <td>5</td>\n",
       "      <td>Attended</td>\n",
       "      <td>10</td>\n",
       "      <td>Attended</td>\n",
       "      <td>10</td>\n",
       "      <td>Missed</td>\n",
       "      <td>6</td>\n",
       "      <td>Missed</td>\n",
       "      <td>9</td>\n",
       "      <td>Missed</td>\n",
       "      <td>10</td>\n",
       "      <td>Missed</td>\n",
       "      <td>9</td>\n",
       "      <td>Missed</td>\n",
       "      <td>5</td>\n",
       "    </tr>\n",
       "  </tbody>\n",
       "</table>\n",
       "</div>"
      ],
      "text/plain": [
       "  Student Roll Num     Type  10-01-21 R-10-01-21  09-01-21 R-9-01-21  \\\n",
       "0                1  STUDENT  Attended          7  Attended         9   \n",
       "1                2  STUDENT  Attended          9  Attended         9   \n",
       "2                3  STUDENT    Missed          6    Missed         6   \n",
       "3                4  STUDENT  Attended          9  Attended         9   \n",
       "4                5  WORKING  Attended          5  Attended        10   \n",
       "\n",
       "   08-01-21 R-8-01-21  07-01-21 R-7-01-21  06-01-21 R-6-01-21  05-01-21  \\\n",
       "0  Attended         8  Attended         6  Attended        10  Attended   \n",
       "1  Attended         5  Attended         9  Attended         9  Attended   \n",
       "2    Missed         8    Missed         7    Missed         6    Missed   \n",
       "3  Attended         7  Attended         9    Missed         7    Missed   \n",
       "4  Attended        10    Missed         6    Missed         9    Missed   \n",
       "\n",
       "  R-5-01-21  04-01-21 R-4-01-21  03-01-21 R-3-01-21  \n",
       "0         7  Attended        10    Missed         6  \n",
       "1        10  Attended         9  Attended         5  \n",
       "2         9    Missed         6    Missed         6  \n",
       "3         5  Attended         9  Attended         7  \n",
       "4        10    Missed         9    Missed         5  "
      ]
     },
     "execution_count": 25,
     "metadata": {},
     "output_type": "execute_result"
    }
   ],
   "source": [
    "df1.head()"
   ]
  },
  {
   "cell_type": "code",
   "execution_count": 26,
   "metadata": {},
   "outputs": [
    {
     "name": "stdout",
     "output_type": "stream",
     "text": [
      "df\n",
      "(57, 22)\n",
      "df1\n",
      "(70, 18)\n"
     ]
    }
   ],
   "source": [
    "print('df' ,df.shape,'df1' , df1.shape,sep='\\n')"
   ]
  },
  {
   "cell_type": "code",
   "execution_count": 27,
   "metadata": {},
   "outputs": [
    {
     "data": {
      "text/plain": [
       "(array(['WORKING', 'STUDENT', 'IGNORE', 'DROPOUT'], dtype=object),\n",
       " array(['Missed', 'Attended'], dtype=object))"
      ]
     },
     "execution_count": 27,
     "metadata": {},
     "output_type": "execute_result"
    }
   ],
   "source": [
    "df['Type'].unique(),df['10-01-21'].unique()"
   ]
  },
  {
   "cell_type": "code",
   "execution_count": 28,
   "metadata": {},
   "outputs": [
    {
     "name": "stdout",
     "output_type": "stream",
     "text": [
      "<class 'pandas.core.frame.DataFrame'>\n",
      "RangeIndex: 57 entries, 0 to 56\n",
      "Data columns (total 22 columns):\n",
      " #   Column            Non-Null Count  Dtype \n",
      "---  ------            --------------  ----- \n",
      " 0   Student Roll Num  57 non-null     object\n",
      " 1   Type              57 non-null     object\n",
      " 2   10-01-21          57 non-null     object\n",
      " 3   R-10-01-21        57 non-null     object\n",
      " 4   09-01-21          57 non-null     object\n",
      " 5   R-9-01-21         57 non-null     object\n",
      " 6   08-01-21          57 non-null     object\n",
      " 7   R-8-01-21         57 non-null     object\n",
      " 8   07-01-21          57 non-null     object\n",
      " 9   R-7-01-21         57 non-null     object\n",
      " 10  06-01-21          57 non-null     object\n",
      " 11  R-6-01-21         57 non-null     object\n",
      " 12  05-01-21          57 non-null     object\n",
      " 13  R-5-01-21         57 non-null     object\n",
      " 14  04-01-21          57 non-null     object\n",
      " 15  R-4-01-21         57 non-null     object\n",
      " 16  03-01-21          57 non-null     object\n",
      " 17  R-3-01-21         57 non-null     object\n",
      " 18  02-01-21          57 non-null     object\n",
      " 19  R-02-01-21        57 non-null     object\n",
      " 20  01-01-21          57 non-null     object\n",
      " 21  R-01-01-21        57 non-null     object\n",
      "dtypes: object(22)\n",
      "memory usage: 9.9+ KB\n"
     ]
    }
   ],
   "source": [
    "# CHECKING THE DATA TYPE OF DATAFRAME\n",
    "df.info()"
   ]
  },
  {
   "cell_type": "code",
   "execution_count": 29,
   "metadata": {},
   "outputs": [
    {
     "name": "stdout",
     "output_type": "stream",
     "text": [
      "<class 'pandas.core.frame.DataFrame'>\n",
      "RangeIndex: 70 entries, 0 to 69\n",
      "Data columns (total 18 columns):\n",
      " #   Column            Non-Null Count  Dtype \n",
      "---  ------            --------------  ----- \n",
      " 0   Student Roll Num  70 non-null     object\n",
      " 1   Type              70 non-null     object\n",
      " 2   10-01-21          70 non-null     object\n",
      " 3   R-10-01-21        70 non-null     object\n",
      " 4   09-01-21          70 non-null     object\n",
      " 5   R-9-01-21         70 non-null     object\n",
      " 6   08-01-21          70 non-null     object\n",
      " 7   R-8-01-21         70 non-null     object\n",
      " 8   07-01-21          70 non-null     object\n",
      " 9   R-7-01-21         70 non-null     object\n",
      " 10  06-01-21          70 non-null     object\n",
      " 11  R-6-01-21         70 non-null     object\n",
      " 12  05-01-21          70 non-null     object\n",
      " 13  R-5-01-21         70 non-null     object\n",
      " 14  04-01-21          70 non-null     object\n",
      " 15  R-4-01-21         70 non-null     object\n",
      " 16  03-01-21          70 non-null     object\n",
      " 17  R-3-01-21         70 non-null     object\n",
      "dtypes: object(18)\n",
      "memory usage: 10.0+ KB\n"
     ]
    }
   ],
   "source": [
    "df1.info()"
   ]
  },
  {
   "cell_type": "code",
   "execution_count": 31,
   "metadata": {},
   "outputs": [
    {
     "data": {
      "text/plain": [
       "array([7, 9, 6, 5, 10, 8], dtype=object)"
      ]
     },
     "execution_count": 31,
     "metadata": {},
     "output_type": "execute_result"
    }
   ],
   "source": [
    "df1['R-10-01-21'].unique()"
   ]
  },
  {
   "cell_type": "markdown",
   "metadata": {},
   "source": [
    "# For Class A"
   ]
  },
  {
   "cell_type": "markdown",
   "metadata": {},
   "source": [
    "###  CONVERTING SPECIFIC DATES INTO THEIR OWN DATAFRAME FOR CLASS A"
   ]
  },
  {
   "cell_type": "code",
   "execution_count": 38,
   "metadata": {},
   "outputs": [],
   "source": [
    "df_10 = df[['Student Roll Num','Type','10-01-21','R-10-01-21']]"
   ]
  },
  {
   "cell_type": "code",
   "execution_count": 47,
   "metadata": {},
   "outputs": [],
   "source": [
    "df_9 = df[['Student Roll Num','Type','09-01-21','R-9-01-21']]"
   ]
  },
  {
   "cell_type": "code",
   "execution_count": 172,
   "metadata": {},
   "outputs": [],
   "source": [
    "df_8 = df[['Student Roll Num','Type','08-01-21','R-8-01-21']]"
   ]
  },
  {
   "cell_type": "code",
   "execution_count": 173,
   "metadata": {},
   "outputs": [],
   "source": [
    "df_7 = df[['Student Roll Num','Type','07-01-21','R-7-01-21']]"
   ]
  },
  {
   "cell_type": "code",
   "execution_count": 50,
   "metadata": {},
   "outputs": [],
   "source": [
    "df_6 = df[['Student Roll Num','Type','06-01-21','R-6-01-21']]"
   ]
  },
  {
   "cell_type": "code",
   "execution_count": 51,
   "metadata": {},
   "outputs": [],
   "source": [
    "df_5 = df[['Student Roll Num','Type','05-01-21','R-5-01-21']]"
   ]
  },
  {
   "cell_type": "code",
   "execution_count": 52,
   "metadata": {},
   "outputs": [],
   "source": [
    "df_4 = df[['Student Roll Num','Type','04-01-21','R-4-01-21']]"
   ]
  },
  {
   "cell_type": "code",
   "execution_count": 53,
   "metadata": {},
   "outputs": [],
   "source": [
    "df_3 = df[['Student Roll Num','Type','03-01-21','R-3-01-21']]"
   ]
  },
  {
   "cell_type": "code",
   "execution_count": 55,
   "metadata": {},
   "outputs": [],
   "source": [
    "df_2 = df[['Student Roll Num','Type','02-01-21','R-02-01-21']]"
   ]
  },
  {
   "cell_type": "code",
   "execution_count": 56,
   "metadata": {},
   "outputs": [],
   "source": [
    "df_1 = df[['Student Roll Num','Type','01-01-21','R-01-01-21']]"
   ]
  },
  {
   "cell_type": "markdown",
   "metadata": {},
   "source": [
    "## For Class B"
   ]
  },
  {
   "cell_type": "markdown",
   "metadata": {},
   "source": [
    "###  CONVERTING SPECIFIC DATES INTO THEIR OWN DATAFRAME FOR CLASS B"
   ]
  },
  {
   "cell_type": "code",
   "execution_count": 59,
   "metadata": {},
   "outputs": [],
   "source": [
    "df1_10 = df1[['Student Roll Num','Type','10-01-21','R-10-01-21']]"
   ]
  },
  {
   "cell_type": "code",
   "execution_count": 62,
   "metadata": {},
   "outputs": [],
   "source": [
    "df1_9 = df1[['Student Roll Num','Type','09-01-21','R-9-01-21']]"
   ]
  },
  {
   "cell_type": "code",
   "execution_count": 63,
   "metadata": {},
   "outputs": [],
   "source": [
    "df1_8 = df1[['Student Roll Num','Type','08-01-21','R-8-01-21']]"
   ]
  },
  {
   "cell_type": "code",
   "execution_count": 64,
   "metadata": {},
   "outputs": [],
   "source": [
    "df1_7 = df1[['Student Roll Num','Type','07-01-21','R-7-01-21']]"
   ]
  },
  {
   "cell_type": "code",
   "execution_count": 65,
   "metadata": {},
   "outputs": [],
   "source": [
    "df1_6 = df1[['Student Roll Num','Type','06-01-21','R-6-01-21']]"
   ]
  },
  {
   "cell_type": "code",
   "execution_count": 66,
   "metadata": {},
   "outputs": [],
   "source": [
    "df1_5 = df1[['Student Roll Num','Type','05-01-21','R-5-01-21']]"
   ]
  },
  {
   "cell_type": "code",
   "execution_count": 67,
   "metadata": {},
   "outputs": [],
   "source": [
    "df1_4 = df1[['Student Roll Num','Type','04-01-21','R-4-01-21']]"
   ]
  },
  {
   "cell_type": "code",
   "execution_count": 68,
   "metadata": {},
   "outputs": [],
   "source": [
    "df1_3 = df1[['Student Roll Num','Type','03-01-21','R-3-01-21']]"
   ]
  },
  {
   "cell_type": "markdown",
   "metadata": {},
   "source": [
    "## For Class A summary statistics "
   ]
  },
  {
   "cell_type": "code",
   "execution_count": 71,
   "metadata": {},
   "outputs": [],
   "source": [
    "import scipy.stats"
   ]
  },
  {
   "cell_type": "code",
   "execution_count": 271,
   "metadata": {},
   "outputs": [
    {
     "name": "stdout",
     "output_type": "stream",
     "text": [
      "[440, 480, 489, 534, 588, 604]\n"
     ]
    }
   ],
   "source": [
    "# SUMMING UP ALL THE PARTICULAR RATINGS FROM DIFFERENT DAYS\n",
    "rating = [5,6,7,8,9,10]\n",
    "total_rating_count =[]\n",
    "for r in rating:\n",
    "    count =0\n",
    "    rating_count = []\n",
    "    for i in df.columns:\n",
    "        if i[0] == 'R':\n",
    "            for j in df[i]:\n",
    "                if j == r:\n",
    "                    count+=1\n",
    "            rating_count.append(count)\n",
    "    total_rating_count.append(sum(rating_count))\n",
    "print(total_rating_count)"
   ]
  },
  {
   "cell_type": "code",
   "execution_count": 280,
   "metadata": {},
   "outputs": [
    {
     "data": {
      "image/png": "[encoded data removed]",
      "text/plain": [
       "<Figure size 432x288 with 1 Axes>"
      ]
     },
     "metadata": {
      "needs_background": "light"
     },
     "output_type": "display_data"
    }
   ],
   "source": [
    "# PLOT FOR ratings\n",
    "plt.bar(rating,total_rating_count)\n",
    "plt.title('Total Rating From Different Days')\n",
    "plt.show()"
   ]
  },
  {
   "cell_type": "code",
   "execution_count": 93,
   "metadata": {},
   "outputs": [
    {
     "name": "stdout",
     "output_type": "stream",
     "text": [
      "ModeResult(mode=array([[[7],\n",
      "        [13]]], dtype=object), count=array([[[3],\n",
      "        [6]]]))\n"
     ]
    }
   ],
   "source": [
    "# most of the students gave what type of ratings ?\n",
    "total_score = []\n",
    "for i in df.columns:\n",
    "    if i[0] == 'R':\n",
    "        total_score.append(scipy.stats.mode(df[i]))\n",
    "print(scipy.stats.mode(total_score))"
   ]
  },
  {
   "cell_type": "markdown",
   "metadata": {},
   "source": [
    "since mode is 7 most of the students gave rating 7 for class A"
   ]
  },
  {
   "cell_type": "markdown",
   "metadata": {},
   "source": [
    "# Rating and Visualisations for Specific Dates for class A"
   ]
  },
  {
   "cell_type": "code",
   "execution_count": 161,
   "metadata": {},
   "outputs": [
    {
     "data": {
      "image/png": "[encoded data removed]",
      "text/plain": [
       "<Figure size 432x288 with 1 Axes>"
      ]
     },
     "metadata": {},
     "output_type": "display_data"
    },
    {
     "data": {
      "text/plain": [
       "STUDENT    7\n",
       "WORKING    2\n",
       "DROPOUT    1\n",
       "Name: Type, dtype: int64"
      ]
     },
     "execution_count": 161,
     "metadata": {},
     "output_type": "execute_result"
    }
   ],
   "source": [
    "# These are all the students who gave 10 out of 10 rating for class A\n",
    "plt.pie(df_10[df_10['R-10-01-21']>9]['Type'].value_counts(),labels=df_10[df_10['R-10-01-21']>9]['Type'].unique())\n",
    "plt.show()\n",
    "df_10[df_10['R-10-01-21']>9]['Type'].value_counts()"
   ]
  },
  {
   "cell_type": "code",
   "execution_count": 282,
   "metadata": {},
   "outputs": [
    {
     "data": {
      "image/png": "[encoded data removed]",
      "text/plain": [
       "<Figure size 720x360 with 2 Axes>"
      ]
     },
     "metadata": {
      "needs_background": "light"
     },
     "output_type": "display_data"
    }
   ],
   "source": [
    "# number of the type of student who gave ratings\n",
    "sns.catplot('Type',col='10-01-21',kind='count',data=df)\n",
    "plt.show()"
   ]
  },
  {
   "cell_type": "code",
   "execution_count": 130,
   "metadata": {},
   "outputs": [
    {
     "data": {
      "text/plain": [
       "<matplotlib.axes._subplots.AxesSubplot at 0x21e03a7b160>"
      ]
     },
     "execution_count": 130,
     "metadata": {},
     "output_type": "execute_result"
    },
    {
     "data": {
      "image/png": "[encoded data removed]",
      "text/plain": [
       "<Figure size 432x288 with 1 Axes>"
      ]
     },
     "metadata": {
      "needs_background": "light"
     },
     "output_type": "display_data"
    }
   ],
   "source": [
    "sns.countplot(x='Type',\n",
    "             hue='R-10-01-21',\n",
    "             data=df)"
   ]
  },
  {
   "cell_type": "code",
   "execution_count": 168,
   "metadata": {},
   "outputs": [
    {
     "data": {
      "image/png": "[encoded data removed]",
      "text/plain": [
       "<Figure size 432x288 with 1 Axes>"
      ]
     },
     "metadata": {},
     "output_type": "display_data"
    },
    {
     "data": {
      "text/plain": [
       "STUDENT    11\n",
       "WORKING     2\n",
       "IGNORE      1\n",
       "Name: Type, dtype: int64"
      ]
     },
     "execution_count": 168,
     "metadata": {},
     "output_type": "execute_result"
    }
   ],
   "source": [
    "# pie chart for type of student that attened class at R-9-01-21\n",
    "plt.pie(df_9[df_9['R-9-01-21']>9]['Type'].value_counts(),labels=df_9[df_9['R-9-01-21']>9]['Type'].unique())\n",
    "plt.show()\n",
    "df_9[df_9['R-9-01-21']>9]['Type'].value_counts()"
   ]
  },
  {
   "cell_type": "code",
   "execution_count": 103,
   "metadata": {},
   "outputs": [
    {
     "data": {
      "image/png": "[encoded data removed]",
      "text/plain": [
       "<Figure size 720x360 with 2 Axes>"
      ]
     },
     "metadata": {
      "needs_background": "light"
     },
     "output_type": "display_data"
    }
   ],
   "source": [
    "sns.catplot('Type',col='09-01-21',kind='count',data=df)\n",
    "plt.show()"
   ]
  },
  {
   "cell_type": "code",
   "execution_count": 131,
   "metadata": {},
   "outputs": [
    {
     "data": {
      "text/plain": [
       "<matplotlib.axes._subplots.AxesSubplot at 0x21e036103a0>"
      ]
     },
     "execution_count": 131,
     "metadata": {},
     "output_type": "execute_result"
    },
    {
     "data": {
      "image/png": "[encoded data removed]",
      "text/plain": [
       "<Figure size 432x288 with 1 Axes>"
      ]
     },
     "metadata": {
      "needs_background": "light"
     },
     "output_type": "display_data"
    }
   ],
   "source": [
    "sns.countplot(x='Type',\n",
    "             hue='R-9-01-21',\n",
    "             data=df)"
   ]
  },
  {
   "cell_type": "code",
   "execution_count": 176,
   "metadata": {},
   "outputs": [
    {
     "data": {
      "image/png": "[encoded data removed]",
      "text/plain": [
       "<Figure size 432x288 with 1 Axes>"
      ]
     },
     "metadata": {},
     "output_type": "display_data"
    },
    {
     "data": {
      "text/plain": [
       "STUDENT    5\n",
       "WORKING    2\n",
       "DROPOUT    1\n",
       "IGNORE     1\n",
       "Name: Type, dtype: int64"
      ]
     },
     "execution_count": 176,
     "metadata": {},
     "output_type": "execute_result"
    }
   ],
   "source": [
    "plt.pie(df_8[df_8['R-8-01-21']>9]['Type'].value_counts(),labels=df_8[df_8['R-8-01-21']>9]['Type'].unique())\n",
    "plt.show()\n",
    "df_8[df_8['R-8-01-21']>9]['Type'].value_counts()"
   ]
  },
  {
   "cell_type": "code",
   "execution_count": 104,
   "metadata": {},
   "outputs": [
    {
     "data": {
      "image/png": "[encoded data removed]",
      "text/plain": [
       "<Figure size 720x360 with 2 Axes>"
      ]
     },
     "metadata": {
      "needs_background": "light"
     },
     "output_type": "display_data"
    }
   ],
   "source": [
    "sns.catplot('Type',col='08-01-21',kind='count',data=df)\n",
    "plt.show()"
   ]
  },
  {
   "cell_type": "code",
   "execution_count": 133,
   "metadata": {},
   "outputs": [
    {
     "data": {
      "text/plain": [
       "<matplotlib.axes._subplots.AxesSubplot at 0x21e7fbe37f0>"
      ]
     },
     "execution_count": 133,
     "metadata": {},
     "output_type": "execute_result"
    },
    {
     "data": {
      "image/png": "[encoded data removed]",
      "text/plain": [
       "<Figure size 432x288 with 1 Axes>"
      ]
     },
     "metadata": {
      "needs_background": "light"
     },
     "output_type": "display_data"
    }
   ],
   "source": [
    "sns.countplot(x='Type',\n",
    "             hue='R-8-01-21',\n",
    "             data=df)"
   ]
  },
  {
   "cell_type": "code",
   "execution_count": 177,
   "metadata": {},
   "outputs": [
    {
     "data": {
      "image/png": "[encoded data removed]",
      "text/plain": [
       "<Figure size 432x288 with 1 Axes>"
      ]
     },
     "metadata": {},
     "output_type": "display_data"
    },
    {
     "data": {
      "text/plain": [
       "STUDENT    7\n",
       "DROPOUT    1\n",
       "Name: Type, dtype: int64"
      ]
     },
     "execution_count": 177,
     "metadata": {},
     "output_type": "execute_result"
    }
   ],
   "source": [
    "plt.pie(df_7[df_7['R-7-01-21']>9]['Type'].value_counts(),labels=df_7[df_7['R-7-01-21']>9]['Type'].unique())\n",
    "plt.show()\n",
    "df_7[df_7['R-7-01-21']>9]['Type'].value_counts()"
   ]
  },
  {
   "cell_type": "code",
   "execution_count": 105,
   "metadata": {},
   "outputs": [
    {
     "data": {
      "image/png": "[encoded data removed]",
      "text/plain": [
       "<Figure size 720x360 with 2 Axes>"
      ]
     },
     "metadata": {
      "needs_background": "light"
     },
     "output_type": "display_data"
    }
   ],
   "source": [
    "sns.catplot('Type',col='07-01-21',kind='count',data=df)\n",
    "plt.show()"
   ]
  },
  {
   "cell_type": "code",
   "execution_count": 134,
   "metadata": {},
   "outputs": [
    {
     "data": {
      "text/plain": [
       "<matplotlib.axes._subplots.AxesSubplot at 0x21e7ffe0be0>"
      ]
     },
     "execution_count": 134,
     "metadata": {},
     "output_type": "execute_result"
    },
    {
     "data": {
      "image/png": "[encoded data removed]",
      "text/plain": [
       "<Figure size 432x288 with 1 Axes>"
      ]
     },
     "metadata": {
      "needs_background": "light"
     },
     "output_type": "display_data"
    }
   ],
   "source": [
    "sns.countplot(x='Type',\n",
    "             hue='R-7-01-21',\n",
    "             data=df)"
   ]
  },
  {
   "cell_type": "code",
   "execution_count": 178,
   "metadata": {},
   "outputs": [
    {
     "data": {
      "image/png": "[encoded data removed]",
      "text/plain": [
       "<Figure size 432x288 with 1 Axes>"
      ]
     },
     "metadata": {},
     "output_type": "display_data"
    },
    {
     "data": {
      "text/plain": [
       "STUDENT    10\n",
       "WORKING     2\n",
       "Name: Type, dtype: int64"
      ]
     },
     "execution_count": 178,
     "metadata": {},
     "output_type": "execute_result"
    }
   ],
   "source": [
    "plt.pie(df_6[df_6['R-6-01-21']>9]['Type'].value_counts(),labels=df_6[df_6['R-6-01-21']>9]['Type'].unique())\n",
    "plt.show()\n",
    "df_6[df_6['R-6-01-21']>9]['Type'].value_counts()"
   ]
  },
  {
   "cell_type": "code",
   "execution_count": 106,
   "metadata": {},
   "outputs": [
    {
     "data": {
      "image/png": "[encoded data removed]",
      "text/plain": [
       "<Figure size 720x360 with 2 Axes>"
      ]
     },
     "metadata": {
      "needs_background": "light"
     },
     "output_type": "display_data"
    }
   ],
   "source": [
    "sns.catplot('Type',col='06-01-21',kind='count',data=df)\n",
    "plt.show()"
   ]
  },
  {
   "cell_type": "code",
   "execution_count": 135,
   "metadata": {},
   "outputs": [
    {
     "data": {
      "text/plain": [
       "<matplotlib.axes._subplots.AxesSubplot at 0x21e7f6b3460>"
      ]
     },
     "execution_count": 135,
     "metadata": {},
     "output_type": "execute_result"
    },
    {
     "data": {
      "image/png": "[encoded data removed]",
      "text/plain": [
       "<Figure size 432x288 with 1 Axes>"
      ]
     },
     "metadata": {
      "needs_background": "light"
     },
     "output_type": "display_data"
    }
   ],
   "source": [
    "sns.countplot(x='Type',\n",
    "             hue='R-6-01-21',\n",
    "             data=df)"
   ]
  },
  {
   "cell_type": "code",
   "execution_count": 179,
   "metadata": {},
   "outputs": [
    {
     "data": {
      "image/png": "[encoded data removed]",
      "text/plain": [
       "<Figure size 432x288 with 1 Axes>"
      ]
     },
     "metadata": {},
     "output_type": "display_data"
    },
    {
     "data": {
      "text/plain": [
       "STUDENT    13\n",
       "Name: Type, dtype: int64"
      ]
     },
     "execution_count": 179,
     "metadata": {},
     "output_type": "execute_result"
    }
   ],
   "source": [
    "plt.pie(df_5[df_5['R-5-01-21']>9]['Type'].value_counts(),labels=df_5[df_5['R-5-01-21']>9]['Type'].unique())\n",
    "plt.show()\n",
    "df_5[df_5['R-5-01-21']>9]['Type'].value_counts()"
   ]
  },
  {
   "cell_type": "code",
   "execution_count": 107,
   "metadata": {},
   "outputs": [
    {
     "data": {
      "image/png": "[encoded data removed]",
      "text/plain": [
       "<Figure size 720x360 with 2 Axes>"
      ]
     },
     "metadata": {
      "needs_background": "light"
     },
     "output_type": "display_data"
    }
   ],
   "source": [
    "sns.catplot('Type',col='05-01-21',kind='count',data=df)\n",
    "plt.show()"
   ]
  },
  {
   "cell_type": "code",
   "execution_count": 136,
   "metadata": {},
   "outputs": [
    {
     "data": {
      "text/plain": [
       "<matplotlib.axes._subplots.AxesSubplot at 0x21e7ff3cee0>"
      ]
     },
     "execution_count": 136,
     "metadata": {},
     "output_type": "execute_result"
    },
    {
     "data": {
      "image/png": "[encoded data removed]",
      "text/plain": [
       "<Figure size 432x288 with 1 Axes>"
      ]
     },
     "metadata": {
      "needs_background": "light"
     },
     "output_type": "display_data"
    }
   ],
   "source": [
    "sns.countplot(x='Type',\n",
    "             hue='R-5-01-21',\n",
    "             data=df)"
   ]
  },
  {
   "cell_type": "code",
   "execution_count": 180,
   "metadata": {},
   "outputs": [
    {
     "data": {
      "image/png": "[encoded data removed]",
      "text/plain": [
       "<Figure size 432x288 with 1 Axes>"
      ]
     },
     "metadata": {},
     "output_type": "display_data"
    },
    {
     "data": {
      "text/plain": [
       "STUDENT    7\n",
       "WORKING    2\n",
       "DROPOUT    1\n",
       "Name: Type, dtype: int64"
      ]
     },
     "execution_count": 180,
     "metadata": {},
     "output_type": "execute_result"
    }
   ],
   "source": [
    "plt.pie(df_4[df_4['R-4-01-21']>9]['Type'].value_counts(),labels=df_4[df_4['R-4-01-21']>9]['Type'].unique())\n",
    "plt.show()\n",
    "df_4[df_4['R-4-01-21']>9]['Type'].value_counts()"
   ]
  },
  {
   "cell_type": "code",
   "execution_count": 108,
   "metadata": {},
   "outputs": [
    {
     "data": {
      "image/png": "[encoded data removed]",
      "text/plain": [
       "<Figure size 720x360 with 2 Axes>"
      ]
     },
     "metadata": {
      "needs_background": "light"
     },
     "output_type": "display_data"
    }
   ],
   "source": [
    "sns.catplot('Type',col='04-01-21',kind='count',data=df)\n",
    "plt.show()"
   ]
  },
  {
   "cell_type": "code",
   "execution_count": 137,
   "metadata": {},
   "outputs": [
    {
     "data": {
      "text/plain": [
       "<matplotlib.axes._subplots.AxesSubplot at 0x21e0417c2b0>"
      ]
     },
     "execution_count": 137,
     "metadata": {},
     "output_type": "execute_result"
    },
    {
     "data": {
      "image/png": "[encoded data removed]",
      "text/plain": [
       "<Figure size 432x288 with 1 Axes>"
      ]
     },
     "metadata": {
      "needs_background": "light"
     },
     "output_type": "display_data"
    }
   ],
   "source": [
    "sns.countplot(x='Type',\n",
    "             hue='R-4-01-21',\n",
    "             data=df)"
   ]
  },
  {
   "cell_type": "code",
   "execution_count": 181,
   "metadata": {},
   "outputs": [
    {
     "data": {
      "image/png": "[encoded data removed]",
      "text/plain": [
       "<Figure size 432x288 with 1 Axes>"
      ]
     },
     "metadata": {},
     "output_type": "display_data"
    },
    {
     "data": {
      "text/plain": [
       "STUDENT    10\n",
       "WORKING     3\n",
       "Name: Type, dtype: int64"
      ]
     },
     "execution_count": 181,
     "metadata": {},
     "output_type": "execute_result"
    }
   ],
   "source": [
    "plt.pie(df_3[df_3['R-3-01-21']>9]['Type'].value_counts(),labels=df_3[df_3['R-3-01-21']>9]['Type'].unique())\n",
    "plt.show()\n",
    "df_3[df_3['R-3-01-21']>9]['Type'].value_counts()"
   ]
  },
  {
   "cell_type": "code",
   "execution_count": 109,
   "metadata": {},
   "outputs": [
    {
     "data": {
      "image/png": "[encoded data removed]",
      "text/plain": [
       "<Figure size 720x360 with 2 Axes>"
      ]
     },
     "metadata": {
      "needs_background": "light"
     },
     "output_type": "display_data"
    }
   ],
   "source": [
    "sns.catplot('Type',col='03-01-21',kind='count',data=df)\n",
    "plt.show()"
   ]
  },
  {
   "cell_type": "code",
   "execution_count": 138,
   "metadata": {},
   "outputs": [
    {
     "data": {
      "text/plain": [
       "<matplotlib.axes._subplots.AxesSubplot at 0x21e020251f0>"
      ]
     },
     "execution_count": 138,
     "metadata": {},
     "output_type": "execute_result"
    },
    {
     "data": {
      "image/png": "[encoded data removed]",
      "text/plain": [
       "<Figure size 432x288 with 1 Axes>"
      ]
     },
     "metadata": {
      "needs_background": "light"
     },
     "output_type": "display_data"
    }
   ],
   "source": [
    "sns.countplot(x='Type',\n",
    "             hue='R-3-01-21',\n",
    "             data=df)"
   ]
  },
  {
   "cell_type": "code",
   "execution_count": 183,
   "metadata": {},
   "outputs": [
    {
     "data": {
      "image/png": "[encoded data removed]",
      "text/plain": [
       "<Figure size 432x288 with 1 Axes>"
      ]
     },
     "metadata": {},
     "output_type": "display_data"
    },
    {
     "data": {
      "text/plain": [
       "STUDENT    9\n",
       "WORKING    3\n",
       "Name: Type, dtype: int64"
      ]
     },
     "execution_count": 183,
     "metadata": {},
     "output_type": "execute_result"
    }
   ],
   "source": [
    "plt.pie(df_2[df_2['R-02-01-21']>9]['Type'].value_counts(),labels=df_2[df_2['R-02-01-21']>9]['Type'].unique())\n",
    "plt.show()\n",
    "df_2[df_2['R-02-01-21']>9]['Type'].value_counts()"
   ]
  },
  {
   "cell_type": "code",
   "execution_count": 113,
   "metadata": {},
   "outputs": [
    {
     "data": {
      "image/png": "[encoded data removed]",
      "text/plain": [
       "<Figure size 720x360 with 2 Axes>"
      ]
     },
     "metadata": {
      "needs_background": "light"
     },
     "output_type": "display_data"
    }
   ],
   "source": [
    "sns.catplot('Type',col='02-01-21',kind='count',data=df)\n",
    "plt.show()"
   ]
  },
  {
   "cell_type": "code",
   "execution_count": 140,
   "metadata": {},
   "outputs": [
    {
     "data": {
      "text/plain": [
       "<matplotlib.axes._subplots.AxesSubplot at 0x21e020cb3a0>"
      ]
     },
     "execution_count": 140,
     "metadata": {},
     "output_type": "execute_result"
    },
    {
     "data": {
      "image/png": "[encoded data removed]",
      "text/plain": [
       "<Figure size 432x288 with 1 Axes>"
      ]
     },
     "metadata": {
      "needs_background": "light"
     },
     "output_type": "display_data"
    }
   ],
   "source": [
    "sns.countplot(x='Type',\n",
    "             hue='R-02-01-21',\n",
    "             data=df)"
   ]
  },
  {
   "cell_type": "code",
   "execution_count": 184,
   "metadata": {},
   "outputs": [
    {
     "data": {
      "image/png": "[encoded data removed]",
      "text/plain": [
       "<Figure size 432x288 with 1 Axes>"
      ]
     },
     "metadata": {},
     "output_type": "display_data"
    },
    {
     "data": {
      "text/plain": [
       "STUDENT    9\n",
       "IGNORE     1\n",
       "Name: Type, dtype: int64"
      ]
     },
     "execution_count": 184,
     "metadata": {},
     "output_type": "execute_result"
    }
   ],
   "source": [
    "plt.pie(df_1[df_1['R-01-01-21']>9]['Type'].value_counts(),labels=df_1[df_1['R-01-01-21']>9]['Type'].unique())\n",
    "plt.show()\n",
    "df_1[df_1['R-01-01-21']>9]['Type'].value_counts()"
   ]
  },
  {
   "cell_type": "code",
   "execution_count": 114,
   "metadata": {},
   "outputs": [
    {
     "data": {
      "image/png": "[encoded data removed]",
      "text/plain": [
       "<Figure size 720x360 with 2 Axes>"
      ]
     },
     "metadata": {
      "needs_background": "light"
     },
     "output_type": "display_data"
    }
   ],
   "source": [
    "sns.catplot('Type',col='01-01-21',kind='count',data=df)\n",
    "plt.show()"
   ]
  },
  {
   "cell_type": "code",
   "execution_count": 141,
   "metadata": {},
   "outputs": [
    {
     "data": {
      "text/plain": [
       "<matplotlib.axes._subplots.AxesSubplot at 0x21e03183070>"
      ]
     },
     "execution_count": 141,
     "metadata": {},
     "output_type": "execute_result"
    },
    {
     "data": {
      "image/png": "[encoded data removed]",
      "text/plain": [
       "<Figure size 432x288 with 1 Axes>"
      ]
     },
     "metadata": {
      "needs_background": "light"
     },
     "output_type": "display_data"
    }
   ],
   "source": [
    "sns.countplot(x='Type',\n",
    "             hue='R-01-01-21',\n",
    "             data=df)"
   ]
  },
  {
   "cell_type": "markdown",
   "metadata": {},
   "source": [
    "## For Class B summary statistics"
   ]
  },
  {
   "cell_type": "code",
   "execution_count": 94,
   "metadata": {},
   "outputs": [
    {
     "name": "stdout",
     "output_type": "stream",
     "text": [
      "ModeResult(mode=array([[[5],\n",
      "        [16]]], dtype=object), count=array([[[3],\n",
      "        [5]]]))\n"
     ]
    }
   ],
   "source": [
    "total_score1 = []\n",
    "for i in df1.columns:\n",
    "    if i[0] == 'R':\n",
    "        total_score1.append(scipy.stats.mode(df1[i]))\n",
    "print(scipy.stats.mode(total_score1))"
   ]
  },
  {
   "cell_type": "markdown",
   "metadata": {},
   "source": [
    "since the mode is 5 for class B their rating for most of the days is 5"
   ]
  },
  {
   "cell_type": "code",
   "execution_count": 273,
   "metadata": {},
   "outputs": [
    {
     "name": "stdout",
     "output_type": "stream",
     "text": [
      "[415, 423, 399, 433, 418, 432]\n"
     ]
    }
   ],
   "source": [
    "# SUMMING UP ALL THE PARTICULAR RATINGS FROM DIFFERENT DAYS\n",
    "rating = [5,6,7,8,9,10]\n",
    "total_rating_count =[]\n",
    "for r in rating:\n",
    "    count =0\n",
    "    rating_count = []\n",
    "    for i in df1.columns:\n",
    "        if i[0] == 'R':\n",
    "            for j in df1[i]:\n",
    "                if j == r:\n",
    "                    count+=1\n",
    "            rating_count.append(count)\n",
    "    total_rating_count.append(sum(rating_count))\n",
    "print(total_rating_count)"
   ]
  },
  {
   "cell_type": "code",
   "execution_count": 279,
   "metadata": {},
   "outputs": [
    {
     "data": {
      "image/png": "[encoded data removed]",
      "text/plain": [
       "<Figure size 432x288 with 1 Axes>"
      ]
     },
     "metadata": {
      "needs_background": "light"
     },
     "output_type": "display_data"
    }
   ],
   "source": [
    "plt.bar(rating,total_rating_count)\n",
    "plt.title('Total Rating From Different Days')\n",
    "plt.show()"
   ]
  },
  {
   "cell_type": "code",
   "execution_count": 185,
   "metadata": {},
   "outputs": [
    {
     "data": {
      "image/png": "[encoded data removed]",
      "text/plain": [
       "<Figure size 432x288 with 1 Axes>"
      ]
     },
     "metadata": {},
     "output_type": "display_data"
    },
    {
     "data": {
      "text/plain": [
       "STUDENT    8\n",
       "WORKING    4\n",
       "Name: Type, dtype: int64"
      ]
     },
     "execution_count": 185,
     "metadata": {},
     "output_type": "execute_result"
    }
   ],
   "source": [
    "plt.pie(df1_10[df1_10['R-10-01-21']>9]['Type'].value_counts(),labels=df1_10[df1_10['R-10-01-21']>9]['Type'].unique())\n",
    "plt.show()\n",
    "df1_10[df1_10['R-10-01-21']>9]['Type'].value_counts()"
   ]
  },
  {
   "cell_type": "code",
   "execution_count": 115,
   "metadata": {},
   "outputs": [
    {
     "data": {
      "image/png": "[encoded data removed]",
      "text/plain": [
       "<Figure size 720x360 with 2 Axes>"
      ]
     },
     "metadata": {
      "needs_background": "light"
     },
     "output_type": "display_data"
    }
   ],
   "source": [
    "sns.catplot('Type',col='10-01-21',kind='count',data=df1)\n",
    "plt.show()"
   ]
  },
  {
   "cell_type": "code",
   "execution_count": 142,
   "metadata": {},
   "outputs": [
    {
     "data": {
      "text/plain": [
       "<matplotlib.axes._subplots.AxesSubplot at 0x21e03230f70>"
      ]
     },
     "execution_count": 142,
     "metadata": {},
     "output_type": "execute_result"
    },
    {
     "data": {
      "image/png": "[encoded data removed]",
      "text/plain": [
       "<Figure size 432x288 with 1 Axes>"
      ]
     },
     "metadata": {
      "needs_background": "light"
     },
     "output_type": "display_data"
    }
   ],
   "source": [
    "sns.countplot(x='Type',\n",
    "             hue='R-10-01-21',\n",
    "             data=df1)"
   ]
  },
  {
   "cell_type": "code",
   "execution_count": 186,
   "metadata": {},
   "outputs": [
    {
     "data": {
      "image/png": "[encoded data removed]",
      "text/plain": [
       "<Figure size 432x288 with 1 Axes>"
      ]
     },
     "metadata": {},
     "output_type": "display_data"
    },
    {
     "data": {
      "text/plain": [
       "STUDENT    7\n",
       "WORKING    3\n",
       "IGNORE     2\n",
       "Name: Type, dtype: int64"
      ]
     },
     "execution_count": 186,
     "metadata": {},
     "output_type": "execute_result"
    }
   ],
   "source": [
    "plt.pie(df1_9[df1_9['R-9-01-21']>9]['Type'].value_counts(),labels=df1_9[df1_9['R-9-01-21']>9]['Type'].unique())\n",
    "plt.show()\n",
    "df1_9[df1_9['R-9-01-21']>9]['Type'].value_counts()"
   ]
  },
  {
   "cell_type": "code",
   "execution_count": 116,
   "metadata": {},
   "outputs": [
    {
     "data": {
      "image/png": "[encoded data removed]",
      "text/plain": [
       "<Figure size 720x360 with 2 Axes>"
      ]
     },
     "metadata": {
      "needs_background": "light"
     },
     "output_type": "display_data"
    }
   ],
   "source": [
    "sns.catplot('Type',col='09-01-21',kind='count',data=df1)\n",
    "plt.show()"
   ]
  },
  {
   "cell_type": "code",
   "execution_count": 143,
   "metadata": {},
   "outputs": [
    {
     "data": {
      "text/plain": [
       "<matplotlib.axes._subplots.AxesSubplot at 0x21e032ce340>"
      ]
     },
     "execution_count": 143,
     "metadata": {},
     "output_type": "execute_result"
    },
    {
     "data": {
      "image/png": "[encoded data removed]",
      "text/plain": [
       "<Figure size 432x288 with 1 Axes>"
      ]
     },
     "metadata": {
      "needs_background": "light"
     },
     "output_type": "display_data"
    }
   ],
   "source": [
    "sns.countplot(x='Type',\n",
    "             hue='R-9-01-21',\n",
    "             data=df1)"
   ]
  },
  {
   "cell_type": "code",
   "execution_count": 187,
   "metadata": {},
   "outputs": [
    {
     "data": {
      "image/png": "[encoded data removed]",
      "text/plain": [
       "<Figure size 432x288 with 1 Axes>"
      ]
     },
     "metadata": {},
     "output_type": "display_data"
    },
    {
     "data": {
      "text/plain": [
       "STUDENT    7\n",
       "WORKING    4\n",
       "Name: Type, dtype: int64"
      ]
     },
     "execution_count": 187,
     "metadata": {},
     "output_type": "execute_result"
    }
   ],
   "source": [
    "plt.pie(df1_8[df1_8['R-8-01-21']>9]['Type'].value_counts(),labels=df1_8[df1_8['R-8-01-21']>9]['Type'].unique())\n",
    "plt.show()\n",
    "df1_8[df1_8['R-8-01-21']>9]['Type'].value_counts()"
   ]
  },
  {
   "cell_type": "code",
   "execution_count": 118,
   "metadata": {},
   "outputs": [
    {
     "data": {
      "image/png": "[encoded data removed]",
      "text/plain": [
       "<Figure size 720x360 with 2 Axes>"
      ]
     },
     "metadata": {
      "needs_background": "light"
     },
     "output_type": "display_data"
    }
   ],
   "source": [
    "sns.catplot('Type',col='08-01-21',kind='count',data=df1)\n",
    "plt.show()"
   ]
  },
  {
   "cell_type": "code",
   "execution_count": 144,
   "metadata": {},
   "outputs": [
    {
     "data": {
      "text/plain": [
       "<matplotlib.axes._subplots.AxesSubplot at 0x21e03295d00>"
      ]
     },
     "execution_count": 144,
     "metadata": {},
     "output_type": "execute_result"
    },
    {
     "data": {
      "image/png": "[encoded data removed]",
      "text/plain": [
       "<Figure size 432x288 with 1 Axes>"
      ]
     },
     "metadata": {
      "needs_background": "light"
     },
     "output_type": "display_data"
    }
   ],
   "source": [
    "sns.countplot(x='Type',\n",
    "             hue='R-8-01-21',\n",
    "             data=df1)"
   ]
  },
  {
   "cell_type": "code",
   "execution_count": 188,
   "metadata": {},
   "outputs": [
    {
     "data": {
      "image/png": "[encoded data removed]",
      "text/plain": [
       "<Figure size 432x288 with 1 Axes>"
      ]
     },
     "metadata": {},
     "output_type": "display_data"
    },
    {
     "data": {
      "text/plain": [
       "STUDENT    8\n",
       "WORKING    4\n",
       "IGNORE     2\n",
       "Name: Type, dtype: int64"
      ]
     },
     "execution_count": 188,
     "metadata": {},
     "output_type": "execute_result"
    }
   ],
   "source": [
    "plt.pie(df1_7[df1_7['R-7-01-21']>9]['Type'].value_counts(),labels=df1_7[df1_7['R-7-01-21']>9]['Type'].unique())\n",
    "plt.show()\n",
    "df1_7[df1_7['R-7-01-21']>9]['Type'].value_counts()"
   ]
  },
  {
   "cell_type": "code",
   "execution_count": 119,
   "metadata": {},
   "outputs": [
    {
     "data": {
      "image/png": "[encoded data removed]",
      "text/plain": [
       "<Figure size 720x360 with 2 Axes>"
      ]
     },
     "metadata": {
      "needs_background": "light"
     },
     "output_type": "display_data"
    }
   ],
   "source": [
    "sns.catplot('Type',col='07-01-21',kind='count',data=df1)\n",
    "plt.show()"
   ]
  },
  {
   "cell_type": "code",
   "execution_count": 145,
   "metadata": {},
   "outputs": [
    {
     "data": {
      "text/plain": [
       "<matplotlib.axes._subplots.AxesSubplot at 0x21e036be070>"
      ]
     },
     "execution_count": 145,
     "metadata": {},
     "output_type": "execute_result"
    },
    {
     "data": {
      "image/png": "[encoded data removed]",
      "text/plain": [
       "<Figure size 432x288 with 1 Axes>"
      ]
     },
     "metadata": {
      "needs_background": "light"
     },
     "output_type": "display_data"
    }
   ],
   "source": [
    "sns.countplot(x='Type',\n",
    "             hue='R-7-01-21',\n",
    "             data=df1)"
   ]
  },
  {
   "cell_type": "code",
   "execution_count": 189,
   "metadata": {},
   "outputs": [
    {
     "data": {
      "image/png": "[encoded data removed]",
      "text/plain": [
       "<Figure size 432x288 with 1 Axes>"
      ]
     },
     "metadata": {},
     "output_type": "display_data"
    },
    {
     "data": {
      "text/plain": [
       "STUDENT    4\n",
       "WORKING    3\n",
       "IGNORE     1\n",
       "Name: Type, dtype: int64"
      ]
     },
     "execution_count": 189,
     "metadata": {},
     "output_type": "execute_result"
    }
   ],
   "source": [
    "plt.pie(df1_6[df1_6['R-6-01-21']>9]['Type'].value_counts(),labels=df1_6[df1_6['R-6-01-21']>9]['Type'].unique())\n",
    "plt.show()\n",
    "df1_6[df1_6['R-6-01-21']>9]['Type'].value_counts()"
   ]
  },
  {
   "cell_type": "code",
   "execution_count": 146,
   "metadata": {},
   "outputs": [
    {
     "data": {
      "image/png": "[encoded data removed]",
      "text/plain": [
       "<Figure size 720x360 with 2 Axes>"
      ]
     },
     "metadata": {
      "needs_background": "light"
     },
     "output_type": "display_data"
    }
   ],
   "source": [
    "sns.catplot('Type',col='06-01-21',kind='count',data=df1)\n",
    "plt.show()"
   ]
  },
  {
   "cell_type": "code",
   "execution_count": 147,
   "metadata": {},
   "outputs": [
    {
     "data": {
      "text/plain": [
       "<matplotlib.axes._subplots.AxesSubplot at 0x21e034d0eb0>"
      ]
     },
     "execution_count": 147,
     "metadata": {},
     "output_type": "execute_result"
    },
    {
     "data": {
      "image/png": "[encoded data removed]",
      "text/plain": [
       "<Figure size 432x288 with 1 Axes>"
      ]
     },
     "metadata": {
      "needs_background": "light"
     },
     "output_type": "display_data"
    }
   ],
   "source": [
    "sns.countplot(x='Type',\n",
    "             hue='R-6-01-21',\n",
    "             data=df1)"
   ]
  },
  {
   "cell_type": "code",
   "execution_count": 193,
   "metadata": {},
   "outputs": [
    {
     "data": {
      "text/plain": [
       "STUDENT    8\n",
       "WORKING    3\n",
       "DROPOUT    1\n",
       "IGNORE     1\n",
       "Name: Type, dtype: int64"
      ]
     },
     "execution_count": 193,
     "metadata": {},
     "output_type": "execute_result"
    },
    {
     "data": {
      "image/png": "[encoded data removed]",
      "text/plain": [
       "<Figure size 432x288 with 1 Axes>"
      ]
     },
     "metadata": {},
     "output_type": "display_data"
    }
   ],
   "source": [
    "plt.pie(df1_5[df1_5['R-5-01-21']>9]['Type'].value_counts(),labels=df1_5[df1_5['R-5-01-21']>9]['Type'].unique())\n",
    "# plt.show()\n",
    "df1_5[df1_5['R-5-01-21']>9]['Type'].value_counts()"
   ]
  },
  {
   "cell_type": "code",
   "execution_count": 121,
   "metadata": {},
   "outputs": [
    {
     "data": {
      "image/png": "[encoded data removed]",
      "text/plain": [
       "<Figure size 720x360 with 2 Axes>"
      ]
     },
     "metadata": {
      "needs_background": "light"
     },
     "output_type": "display_data"
    }
   ],
   "source": [
    "sns.catplot('Type',col='05-01-21',kind='count',data=df1)\n",
    "plt.show()"
   ]
  },
  {
   "cell_type": "code",
   "execution_count": 148,
   "metadata": {},
   "outputs": [
    {
     "data": {
      "text/plain": [
       "<matplotlib.axes._subplots.AxesSubplot at 0x21e0352cd60>"
      ]
     },
     "execution_count": 148,
     "metadata": {},
     "output_type": "execute_result"
    },
    {
     "data": {
      "image/png": "[encoded data removed]",
      "text/plain": [
       "<Figure size 432x288 with 1 Axes>"
      ]
     },
     "metadata": {
      "needs_background": "light"
     },
     "output_type": "display_data"
    }
   ],
   "source": [
    "sns.countplot(x='Type',\n",
    "             hue='R-5-01-21',\n",
    "             data=df1)"
   ]
  },
  {
   "cell_type": "code",
   "execution_count": 194,
   "metadata": {},
   "outputs": [
    {
     "data": {
      "image/png": "[encoded data removed]",
      "text/plain": [
       "<Figure size 432x288 with 1 Axes>"
      ]
     },
     "metadata": {},
     "output_type": "display_data"
    },
    {
     "data": {
      "text/plain": [
       "STUDENT    11\n",
       "WORKING     4\n",
       "IGNORE      1\n",
       "Name: Type, dtype: int64"
      ]
     },
     "execution_count": 194,
     "metadata": {},
     "output_type": "execute_result"
    }
   ],
   "source": [
    "plt.pie(df1_4[df1_4['R-4-01-21']>9]['Type'].value_counts(),labels=df1_4[df1_4['R-4-01-21']>9]['Type'].unique())\n",
    "plt.show()\n",
    "df1_4[df1_4['R-4-01-21']>9]['Type'].value_counts()"
   ]
  },
  {
   "cell_type": "code",
   "execution_count": 122,
   "metadata": {},
   "outputs": [
    {
     "data": {
      "image/png": "[encoded data removed]",
      "text/plain": [
       "<Figure size 720x360 with 2 Axes>"
      ]
     },
     "metadata": {
      "needs_background": "light"
     },
     "output_type": "display_data"
    }
   ],
   "source": [
    "sns.catplot('Type',col='04-01-21',kind='count',data=df1)\n",
    "plt.show()"
   ]
  },
  {
   "cell_type": "code",
   "execution_count": 149,
   "metadata": {},
   "outputs": [
    {
     "data": {
      "text/plain": [
       "<matplotlib.axes._subplots.AxesSubplot at 0x21e038a0ca0>"
      ]
     },
     "execution_count": 149,
     "metadata": {},
     "output_type": "execute_result"
    },
    {
     "data": {
      "image/png": "[encoded data removed]",
      "text/plain": [
       "<Figure size 432x288 with 1 Axes>"
      ]
     },
     "metadata": {
      "needs_background": "light"
     },
     "output_type": "display_data"
    }
   ],
   "source": [
    "sns.countplot(x='Type',\n",
    "             hue='R-4-01-21',\n",
    "             data=df1)"
   ]
  },
  {
   "cell_type": "code",
   "execution_count": 196,
   "metadata": {},
   "outputs": [
    {
     "data": {
      "image/png": "[encoded data removed]",
      "text/plain": [
       "<Figure size 432x288 with 1 Axes>"
      ]
     },
     "metadata": {},
     "output_type": "display_data"
    },
    {
     "data": {
      "text/plain": [
       "STUDENT    7\n",
       "WORKING    5\n",
       "IGNORE     1\n",
       "Name: Type, dtype: int64"
      ]
     },
     "execution_count": 196,
     "metadata": {},
     "output_type": "execute_result"
    }
   ],
   "source": [
    "plt.pie(df1_3[df1_3['R-3-01-21']>9]['Type'].value_counts(),labels=df1_3[df1_3['R-3-01-21']>9]['Type'].unique())\n",
    "plt.show()\n",
    "df1_3[df1_3['R-3-01-21']>9]['Type'].value_counts()"
   ]
  },
  {
   "cell_type": "code",
   "execution_count": 123,
   "metadata": {},
   "outputs": [
    {
     "data": {
      "image/png": "[encoded data removed]",
      "text/plain": [
       "<Figure size 720x360 with 2 Axes>"
      ]
     },
     "metadata": {
      "needs_background": "light"
     },
     "output_type": "display_data"
    }
   ],
   "source": [
    "sns.catplot('Type',col='03-01-21',kind='count',data=df1)\n",
    "plt.show()"
   ]
  },
  {
   "cell_type": "code",
   "execution_count": 150,
   "metadata": {},
   "outputs": [
    {
     "data": {
      "text/plain": [
       "<matplotlib.axes._subplots.AxesSubplot at 0x21e0392e670>"
      ]
     },
     "execution_count": 150,
     "metadata": {},
     "output_type": "execute_result"
    },
    {
     "data": {
      "image/png": "[encoded data removed]",
      "text/plain": [
       "<Figure size 432x288 with 1 Axes>"
      ]
     },
     "metadata": {
      "needs_background": "light"
     },
     "output_type": "display_data"
    }
   ],
   "source": [
    "sns.countplot(x='Type',\n",
    "             hue='R-3-01-21',\n",
    "             data=df1)"
   ]
  },
  {
   "cell_type": "code",
   "execution_count": null,
   "metadata": {},
   "outputs": [],
   "source": []
  }
 ],
 "metadata": {
  "kernelspec": {
   "display_name": "Python 3",
   "language": "python",
   "name": "python3"
  },
  "language_info": {
   "codemirror_mode": {
    "name": "ipython",
    "version": 3
   },
   "file_extension": ".py",
   "mimetype": "text/x-python",
   "name": "python",
   "nbconvert_exporter": "python",
   "pygments_lexer": "ipython3",
   "version": "3.8.3"
  }
 },
 "nbformat": 4,
 "nbformat_minor": 4
}
